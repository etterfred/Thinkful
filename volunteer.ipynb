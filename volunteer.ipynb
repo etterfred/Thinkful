{
 "cells": [
  {
   "cell_type": "markdown",
   "metadata": {},
   "source": [
    "# Introduction \n",
    "\n",
    "This notebook analyzes the contributions made by people who volunteer vs those that don't.  It looks at overall totals and breaks down according to gender and the number of volunteer activity counts.  \n",
    "\n",
    "The first part of the notebook is mainly exploratory, while the second half produces graphs to illustrate results.  \n",
    "\n",
    "Some comments are given throughout the notebook.  \n",
    "\n",
    "by Fred Etter - December, 2019"
   ]
  },
  {
   "cell_type": "code",
   "execution_count": 1,
   "metadata": {},
   "outputs": [],
   "source": [
    "# Import modules\n",
    "\n",
    "import numpy as np\n",
    "import pandas as pd\n",
    "import matplotlib.pyplot as plt\n",
    "import seaborn as sns\n",
    "import numpy as np\n",
    "from sklearn import linear_model\n",
    "from sklearn.ensemble import ExtraTreesClassifier\n",
    "from sklearn.ensemble import RandomForestClassifier\n",
    "from sklearn import preprocessing\n",
    "import sklearn\n",
    "from sklearn.feature_selection import SelectFromModel\n",
    "from datetime import datetime\n",
    "from sklearn.metrics import confusion_matrix\n",
    "from sklearn import metrics\n",
    "import seaborn as sns"
   ]
  },
  {
   "cell_type": "markdown",
   "metadata": {},
   "source": [
    "Here’s a brief explanation of the columns:\n",
    " \n",
    "- ContactId – Is the individual’s GUID from our CRM system\n",
    "- Year –   This is the fiscal year starting July 1st – June 30th. Pledging and volunteerism are organized around this cycle.\n",
    "- PledgeTotal – Total gift for the year\n",
    "- VolType – This helps to differentiate between standard volunteerism (harvest hope, etc.) vs the United Way internal boards & committees. \n",
    "- VolunteerActivityCnt – the number of instances of volunteerism per Year & VolType"
   ]
  },
  {
   "cell_type": "code",
   "execution_count": 2,
   "metadata": {},
   "outputs": [],
   "source": [
    "# Read in the data\n",
    "df = pd.read_csv('file1_12_3.csv', low_memory=False)"
   ]
  },
  {
   "cell_type": "code",
   "execution_count": 3,
   "metadata": {},
   "outputs": [
    {
     "data": {
      "text/html": [
       "<div>\n",
       "<style scoped>\n",
       "    .dataframe tbody tr th:only-of-type {\n",
       "        vertical-align: middle;\n",
       "    }\n",
       "\n",
       "    .dataframe tbody tr th {\n",
       "        vertical-align: top;\n",
       "    }\n",
       "\n",
       "    .dataframe thead th {\n",
       "        text-align: right;\n",
       "    }\n",
       "</style>\n",
       "<table border=\"1\" class=\"dataframe\">\n",
       "  <thead>\n",
       "    <tr style=\"text-align: right;\">\n",
       "      <th></th>\n",
       "      <th>ContactId</th>\n",
       "      <th>Year</th>\n",
       "      <th>PledgeTotal</th>\n",
       "      <th>VolType</th>\n",
       "      <th>VolunteerActivityCnt</th>\n",
       "      <th>BirthYear</th>\n",
       "      <th>Gender</th>\n",
       "    </tr>\n",
       "  </thead>\n",
       "  <tbody>\n",
       "    <tr>\n",
       "      <td>0</td>\n",
       "      <td>874ddbce-11cd-e111-941f-00259073dc22</td>\n",
       "      <td>2007</td>\n",
       "      <td>52.00</td>\n",
       "      <td>NaN</td>\n",
       "      <td>NaN</td>\n",
       "      <td>1977.0</td>\n",
       "      <td>female</td>\n",
       "    </tr>\n",
       "    <tr>\n",
       "      <td>1</td>\n",
       "      <td>9a4ddbce-11cd-e111-941f-00259073dc22</td>\n",
       "      <td>2007</td>\n",
       "      <td>80.00</td>\n",
       "      <td>NaN</td>\n",
       "      <td>NaN</td>\n",
       "      <td>1968.0</td>\n",
       "      <td>female</td>\n",
       "    </tr>\n",
       "    <tr>\n",
       "      <td>2</td>\n",
       "      <td>5e4edbce-11cd-e111-941f-00259073dc22</td>\n",
       "      <td>2007</td>\n",
       "      <td>10000.00</td>\n",
       "      <td>NaN</td>\n",
       "      <td>NaN</td>\n",
       "      <td>1958.0</td>\n",
       "      <td>male</td>\n",
       "    </tr>\n",
       "    <tr>\n",
       "      <td>3</td>\n",
       "      <td>c150dbce-11cd-e111-941f-00259073dc22</td>\n",
       "      <td>2007</td>\n",
       "      <td>120.00</td>\n",
       "      <td>NaN</td>\n",
       "      <td>NaN</td>\n",
       "      <td>NaN</td>\n",
       "      <td>male</td>\n",
       "    </tr>\n",
       "    <tr>\n",
       "      <td>4</td>\n",
       "      <td>0b53dbce-11cd-e111-941f-00259073dc22</td>\n",
       "      <td>2007</td>\n",
       "      <td>500.16</td>\n",
       "      <td>NaN</td>\n",
       "      <td>NaN</td>\n",
       "      <td>1947.0</td>\n",
       "      <td>female</td>\n",
       "    </tr>\n",
       "  </tbody>\n",
       "</table>\n",
       "</div>"
      ],
      "text/plain": [
       "                              ContactId  Year  PledgeTotal VolType  \\\n",
       "0  874ddbce-11cd-e111-941f-00259073dc22  2007        52.00     NaN   \n",
       "1  9a4ddbce-11cd-e111-941f-00259073dc22  2007        80.00     NaN   \n",
       "2  5e4edbce-11cd-e111-941f-00259073dc22  2007     10000.00     NaN   \n",
       "3  c150dbce-11cd-e111-941f-00259073dc22  2007       120.00     NaN   \n",
       "4  0b53dbce-11cd-e111-941f-00259073dc22  2007       500.16     NaN   \n",
       "\n",
       "   VolunteerActivityCnt  BirthYear  Gender  \n",
       "0                   NaN     1977.0  female  \n",
       "1                   NaN     1968.0  female  \n",
       "2                   NaN     1958.0    male  \n",
       "3                   NaN        NaN    male  \n",
       "4                   NaN     1947.0  female  "
      ]
     },
     "execution_count": 3,
     "metadata": {},
     "output_type": "execute_result"
    }
   ],
   "source": [
    "df.head()"
   ]
  },
  {
   "cell_type": "code",
   "execution_count": 4,
   "metadata": {},
   "outputs": [
    {
     "data": {
      "text/plain": [
       "(385722, 7)"
      ]
     },
     "execution_count": 4,
     "metadata": {},
     "output_type": "execute_result"
    }
   ],
   "source": [
    "df.shape"
   ]
  },
  {
   "cell_type": "markdown",
   "metadata": {},
   "source": [
    "The following shows the unique supporters with number of times they have donated."
   ]
  },
  {
   "cell_type": "code",
   "execution_count": 5,
   "metadata": {},
   "outputs": [
    {
     "data": {
      "text/plain": [
       "8d4eb7d0-11cd-e111-941f-00259073dc22    19\n",
       "2b41e8cf-11cd-e111-941f-00259073dc22    18\n",
       "e342e8cf-11cd-e111-941f-00259073dc22    17\n",
       "adb455d0-11cd-e111-941f-00259073dc22    17\n",
       "483ae8cf-11cd-e111-941f-00259073dc22    17\n",
       "                                        ..\n",
       "0ad814d1-6291-e611-97d4-26d4160798d6     1\n",
       "a0289a66-ca87-e511-9589-26d4160798d6     1\n",
       "2c2c4330-164d-49ec-991f-73275f516bf5     1\n",
       "c8e57e13-4ce7-e811-8120-0050569e2a4f     1\n",
       "20b0c4a0-3e32-4b01-a860-8c1041aef39b     1\n",
       "Name: ContactId, Length: 118799, dtype: int64"
      ]
     },
     "execution_count": 5,
     "metadata": {},
     "output_type": "execute_result"
    }
   ],
   "source": [
    "df.ContactId.value_counts()"
   ]
  },
  {
   "cell_type": "code",
   "execution_count": 6,
   "metadata": {},
   "outputs": [
    {
     "data": {
      "text/plain": [
       "(118799,)"
      ]
     },
     "execution_count": 6,
     "metadata": {},
     "output_type": "execute_result"
    }
   ],
   "source": [
    "df.ContactId.unique().shape"
   ]
  },
  {
   "cell_type": "markdown",
   "metadata": {},
   "source": [
    "The following shows just one very active supporter:"
   ]
  },
  {
   "cell_type": "code",
   "execution_count": 7,
   "metadata": {},
   "outputs": [
    {
     "data": {
      "text/html": [
       "<div>\n",
       "<style scoped>\n",
       "    .dataframe tbody tr th:only-of-type {\n",
       "        vertical-align: middle;\n",
       "    }\n",
       "\n",
       "    .dataframe tbody tr th {\n",
       "        vertical-align: top;\n",
       "    }\n",
       "\n",
       "    .dataframe thead th {\n",
       "        text-align: right;\n",
       "    }\n",
       "</style>\n",
       "<table border=\"1\" class=\"dataframe\">\n",
       "  <thead>\n",
       "    <tr style=\"text-align: right;\">\n",
       "      <th></th>\n",
       "      <th>ContactId</th>\n",
       "      <th>Year</th>\n",
       "      <th>PledgeTotal</th>\n",
       "      <th>VolType</th>\n",
       "      <th>VolunteerActivityCnt</th>\n",
       "      <th>BirthYear</th>\n",
       "      <th>Gender</th>\n",
       "    </tr>\n",
       "  </thead>\n",
       "  <tbody>\n",
       "    <tr>\n",
       "      <td>191339</td>\n",
       "      <td>8d4eb7d0-11cd-e111-941f-00259073dc22</td>\n",
       "      <td>2007</td>\n",
       "      <td>520.0</td>\n",
       "      <td>NaN</td>\n",
       "      <td>NaN</td>\n",
       "      <td>1953.0</td>\n",
       "      <td>female</td>\n",
       "    </tr>\n",
       "    <tr>\n",
       "      <td>197603</td>\n",
       "      <td>8d4eb7d0-11cd-e111-941f-00259073dc22</td>\n",
       "      <td>2008</td>\n",
       "      <td>545.0</td>\n",
       "      <td>NaN</td>\n",
       "      <td>NaN</td>\n",
       "      <td>1953.0</td>\n",
       "      <td>female</td>\n",
       "    </tr>\n",
       "    <tr>\n",
       "      <td>206100</td>\n",
       "      <td>8d4eb7d0-11cd-e111-941f-00259073dc22</td>\n",
       "      <td>2009</td>\n",
       "      <td>520.0</td>\n",
       "      <td>NaN</td>\n",
       "      <td>NaN</td>\n",
       "      <td>1953.0</td>\n",
       "      <td>female</td>\n",
       "    </tr>\n",
       "    <tr>\n",
       "      <td>218968</td>\n",
       "      <td>8d4eb7d0-11cd-e111-941f-00259073dc22</td>\n",
       "      <td>2011</td>\n",
       "      <td>650.0</td>\n",
       "      <td>NaN</td>\n",
       "      <td>NaN</td>\n",
       "      <td>1953.0</td>\n",
       "      <td>female</td>\n",
       "    </tr>\n",
       "    <tr>\n",
       "      <td>379122</td>\n",
       "      <td>8d4eb7d0-11cd-e111-941f-00259073dc22</td>\n",
       "      <td>2015</td>\n",
       "      <td>1092.0</td>\n",
       "      <td>Council, Committe or Board</td>\n",
       "      <td>1.0</td>\n",
       "      <td>1953.0</td>\n",
       "      <td>female</td>\n",
       "    </tr>\n",
       "    <tr>\n",
       "      <td>379149</td>\n",
       "      <td>8d4eb7d0-11cd-e111-941f-00259073dc22</td>\n",
       "      <td>2014</td>\n",
       "      <td>1040.0</td>\n",
       "      <td>Council, Committe or Board</td>\n",
       "      <td>1.0</td>\n",
       "      <td>1953.0</td>\n",
       "      <td>female</td>\n",
       "    </tr>\n",
       "    <tr>\n",
       "      <td>379393</td>\n",
       "      <td>8d4eb7d0-11cd-e111-941f-00259073dc22</td>\n",
       "      <td>2013</td>\n",
       "      <td>1040.0</td>\n",
       "      <td>Council, Committe or Board</td>\n",
       "      <td>1.0</td>\n",
       "      <td>1953.0</td>\n",
       "      <td>female</td>\n",
       "    </tr>\n",
       "    <tr>\n",
       "      <td>379552</td>\n",
       "      <td>8d4eb7d0-11cd-e111-941f-00259073dc22</td>\n",
       "      <td>2012</td>\n",
       "      <td>1040.0</td>\n",
       "      <td>Standard</td>\n",
       "      <td>1.0</td>\n",
       "      <td>1953.0</td>\n",
       "      <td>female</td>\n",
       "    </tr>\n",
       "    <tr>\n",
       "      <td>379731</td>\n",
       "      <td>8d4eb7d0-11cd-e111-941f-00259073dc22</td>\n",
       "      <td>2010</td>\n",
       "      <td>520.0</td>\n",
       "      <td>Standard</td>\n",
       "      <td>1.0</td>\n",
       "      <td>1953.0</td>\n",
       "      <td>female</td>\n",
       "    </tr>\n",
       "    <tr>\n",
       "      <td>384627</td>\n",
       "      <td>8d4eb7d0-11cd-e111-941f-00259073dc22</td>\n",
       "      <td>2016</td>\n",
       "      <td>1170.0</td>\n",
       "      <td>Council, Committe or Board</td>\n",
       "      <td>2.0</td>\n",
       "      <td>1953.0</td>\n",
       "      <td>female</td>\n",
       "    </tr>\n",
       "    <tr>\n",
       "      <td>385062</td>\n",
       "      <td>8d4eb7d0-11cd-e111-941f-00259073dc22</td>\n",
       "      <td>2017</td>\n",
       "      <td>1170.0</td>\n",
       "      <td>Standard</td>\n",
       "      <td>3.0</td>\n",
       "      <td>1953.0</td>\n",
       "      <td>female</td>\n",
       "    </tr>\n",
       "    <tr>\n",
       "      <td>385446</td>\n",
       "      <td>8d4eb7d0-11cd-e111-941f-00259073dc22</td>\n",
       "      <td>2014</td>\n",
       "      <td>1040.0</td>\n",
       "      <td>Standard</td>\n",
       "      <td>6.0</td>\n",
       "      <td>1953.0</td>\n",
       "      <td>female</td>\n",
       "    </tr>\n",
       "    <tr>\n",
       "      <td>385458</td>\n",
       "      <td>8d4eb7d0-11cd-e111-941f-00259073dc22</td>\n",
       "      <td>2019</td>\n",
       "      <td>NaN</td>\n",
       "      <td>Standard</td>\n",
       "      <td>6.0</td>\n",
       "      <td>1953.0</td>\n",
       "      <td>female</td>\n",
       "    </tr>\n",
       "    <tr>\n",
       "      <td>385500</td>\n",
       "      <td>8d4eb7d0-11cd-e111-941f-00259073dc22</td>\n",
       "      <td>2017</td>\n",
       "      <td>1170.0</td>\n",
       "      <td>Council, Committe or Board</td>\n",
       "      <td>7.0</td>\n",
       "      <td>1953.0</td>\n",
       "      <td>female</td>\n",
       "    </tr>\n",
       "    <tr>\n",
       "      <td>385503</td>\n",
       "      <td>8d4eb7d0-11cd-e111-941f-00259073dc22</td>\n",
       "      <td>2015</td>\n",
       "      <td>1092.0</td>\n",
       "      <td>Standard</td>\n",
       "      <td>7.0</td>\n",
       "      <td>1953.0</td>\n",
       "      <td>female</td>\n",
       "    </tr>\n",
       "    <tr>\n",
       "      <td>385504</td>\n",
       "      <td>8d4eb7d0-11cd-e111-941f-00259073dc22</td>\n",
       "      <td>2016</td>\n",
       "      <td>1170.0</td>\n",
       "      <td>Standard</td>\n",
       "      <td>7.0</td>\n",
       "      <td>1953.0</td>\n",
       "      <td>female</td>\n",
       "    </tr>\n",
       "    <tr>\n",
       "      <td>385538</td>\n",
       "      <td>8d4eb7d0-11cd-e111-941f-00259073dc22</td>\n",
       "      <td>2019</td>\n",
       "      <td>NaN</td>\n",
       "      <td>Council, Committe or Board</td>\n",
       "      <td>8.0</td>\n",
       "      <td>1953.0</td>\n",
       "      <td>female</td>\n",
       "    </tr>\n",
       "    <tr>\n",
       "      <td>385678</td>\n",
       "      <td>8d4eb7d0-11cd-e111-941f-00259073dc22</td>\n",
       "      <td>2018</td>\n",
       "      <td>1225.0</td>\n",
       "      <td>Standard</td>\n",
       "      <td>14.0</td>\n",
       "      <td>1953.0</td>\n",
       "      <td>female</td>\n",
       "    </tr>\n",
       "    <tr>\n",
       "      <td>385679</td>\n",
       "      <td>8d4eb7d0-11cd-e111-941f-00259073dc22</td>\n",
       "      <td>2018</td>\n",
       "      <td>1225.0</td>\n",
       "      <td>Council, Committe or Board</td>\n",
       "      <td>14.0</td>\n",
       "      <td>1953.0</td>\n",
       "      <td>female</td>\n",
       "    </tr>\n",
       "  </tbody>\n",
       "</table>\n",
       "</div>"
      ],
      "text/plain": [
       "                                   ContactId  Year  PledgeTotal  \\\n",
       "191339  8d4eb7d0-11cd-e111-941f-00259073dc22  2007        520.0   \n",
       "197603  8d4eb7d0-11cd-e111-941f-00259073dc22  2008        545.0   \n",
       "206100  8d4eb7d0-11cd-e111-941f-00259073dc22  2009        520.0   \n",
       "218968  8d4eb7d0-11cd-e111-941f-00259073dc22  2011        650.0   \n",
       "379122  8d4eb7d0-11cd-e111-941f-00259073dc22  2015       1092.0   \n",
       "379149  8d4eb7d0-11cd-e111-941f-00259073dc22  2014       1040.0   \n",
       "379393  8d4eb7d0-11cd-e111-941f-00259073dc22  2013       1040.0   \n",
       "379552  8d4eb7d0-11cd-e111-941f-00259073dc22  2012       1040.0   \n",
       "379731  8d4eb7d0-11cd-e111-941f-00259073dc22  2010        520.0   \n",
       "384627  8d4eb7d0-11cd-e111-941f-00259073dc22  2016       1170.0   \n",
       "385062  8d4eb7d0-11cd-e111-941f-00259073dc22  2017       1170.0   \n",
       "385446  8d4eb7d0-11cd-e111-941f-00259073dc22  2014       1040.0   \n",
       "385458  8d4eb7d0-11cd-e111-941f-00259073dc22  2019          NaN   \n",
       "385500  8d4eb7d0-11cd-e111-941f-00259073dc22  2017       1170.0   \n",
       "385503  8d4eb7d0-11cd-e111-941f-00259073dc22  2015       1092.0   \n",
       "385504  8d4eb7d0-11cd-e111-941f-00259073dc22  2016       1170.0   \n",
       "385538  8d4eb7d0-11cd-e111-941f-00259073dc22  2019          NaN   \n",
       "385678  8d4eb7d0-11cd-e111-941f-00259073dc22  2018       1225.0   \n",
       "385679  8d4eb7d0-11cd-e111-941f-00259073dc22  2018       1225.0   \n",
       "\n",
       "                           VolType  VolunteerActivityCnt  BirthYear  Gender  \n",
       "191339                         NaN                   NaN     1953.0  female  \n",
       "197603                         NaN                   NaN     1953.0  female  \n",
       "206100                         NaN                   NaN     1953.0  female  \n",
       "218968                         NaN                   NaN     1953.0  female  \n",
       "379122  Council, Committe or Board                   1.0     1953.0  female  \n",
       "379149  Council, Committe or Board                   1.0     1953.0  female  \n",
       "379393  Council, Committe or Board                   1.0     1953.0  female  \n",
       "379552                    Standard                   1.0     1953.0  female  \n",
       "379731                    Standard                   1.0     1953.0  female  \n",
       "384627  Council, Committe or Board                   2.0     1953.0  female  \n",
       "385062                    Standard                   3.0     1953.0  female  \n",
       "385446                    Standard                   6.0     1953.0  female  \n",
       "385458                    Standard                   6.0     1953.0  female  \n",
       "385500  Council, Committe or Board                   7.0     1953.0  female  \n",
       "385503                    Standard                   7.0     1953.0  female  \n",
       "385504                    Standard                   7.0     1953.0  female  \n",
       "385538  Council, Committe or Board                   8.0     1953.0  female  \n",
       "385678                    Standard                  14.0     1953.0  female  \n",
       "385679  Council, Committe or Board                  14.0     1953.0  female  "
      ]
     },
     "execution_count": 7,
     "metadata": {},
     "output_type": "execute_result"
    }
   ],
   "source": [
    "df[df.ContactId == '8d4eb7d0-11cd-e111-941f-00259073dc22']"
   ]
  },
  {
   "cell_type": "markdown",
   "metadata": {},
   "source": [
    "The following groups by type of volunteer:"
   ]
  },
  {
   "cell_type": "code",
   "execution_count": 8,
   "metadata": {},
   "outputs": [
    {
     "data": {
      "text/html": [
       "<div>\n",
       "<style scoped>\n",
       "    .dataframe tbody tr th:only-of-type {\n",
       "        vertical-align: middle;\n",
       "    }\n",
       "\n",
       "    .dataframe tbody tr th {\n",
       "        vertical-align: top;\n",
       "    }\n",
       "\n",
       "    .dataframe thead th {\n",
       "        text-align: right;\n",
       "    }\n",
       "</style>\n",
       "<table border=\"1\" class=\"dataframe\">\n",
       "  <thead>\n",
       "    <tr style=\"text-align: right;\">\n",
       "      <th></th>\n",
       "      <th>ContactId</th>\n",
       "      <th>Year</th>\n",
       "      <th>PledgeTotal</th>\n",
       "      <th>VolunteerActivityCnt</th>\n",
       "      <th>BirthYear</th>\n",
       "      <th>Gender</th>\n",
       "    </tr>\n",
       "    <tr>\n",
       "      <th>VolType</th>\n",
       "      <th></th>\n",
       "      <th></th>\n",
       "      <th></th>\n",
       "      <th></th>\n",
       "      <th></th>\n",
       "      <th></th>\n",
       "    </tr>\n",
       "  </thead>\n",
       "  <tbody>\n",
       "    <tr>\n",
       "      <td>Council, Committe or Board</td>\n",
       "      <td>1632</td>\n",
       "      <td>1632</td>\n",
       "      <td>1090</td>\n",
       "      <td>1632</td>\n",
       "      <td>1139</td>\n",
       "      <td>1594</td>\n",
       "    </tr>\n",
       "    <tr>\n",
       "      <td>Standard</td>\n",
       "      <td>8439</td>\n",
       "      <td>8439</td>\n",
       "      <td>3218</td>\n",
       "      <td>8439</td>\n",
       "      <td>2515</td>\n",
       "      <td>7890</td>\n",
       "    </tr>\n",
       "  </tbody>\n",
       "</table>\n",
       "</div>"
      ],
      "text/plain": [
       "                            ContactId  Year  PledgeTotal  \\\n",
       "VolType                                                    \n",
       "Council, Committe or Board       1632  1632         1090   \n",
       "Standard                         8439  8439         3218   \n",
       "\n",
       "                            VolunteerActivityCnt  BirthYear  Gender  \n",
       "VolType                                                              \n",
       "Council, Committe or Board                  1632       1139    1594  \n",
       "Standard                                    8439       2515    7890  "
      ]
     },
     "execution_count": 8,
     "metadata": {},
     "output_type": "execute_result"
    }
   ],
   "source": [
    "df.groupby('VolType').count()"
   ]
  },
  {
   "cell_type": "markdown",
   "metadata": {},
   "source": [
    "The following groups by year and counts the total records by year and column:"
   ]
  },
  {
   "cell_type": "code",
   "execution_count": 9,
   "metadata": {},
   "outputs": [
    {
     "data": {
      "text/html": [
       "<div>\n",
       "<style scoped>\n",
       "    .dataframe tbody tr th:only-of-type {\n",
       "        vertical-align: middle;\n",
       "    }\n",
       "\n",
       "    .dataframe tbody tr th {\n",
       "        vertical-align: top;\n",
       "    }\n",
       "\n",
       "    .dataframe thead th {\n",
       "        text-align: right;\n",
       "    }\n",
       "</style>\n",
       "<table border=\"1\" class=\"dataframe\">\n",
       "  <thead>\n",
       "    <tr style=\"text-align: right;\">\n",
       "      <th></th>\n",
       "      <th>ContactId</th>\n",
       "      <th>PledgeTotal</th>\n",
       "      <th>VolType</th>\n",
       "      <th>VolunteerActivityCnt</th>\n",
       "      <th>BirthYear</th>\n",
       "      <th>Gender</th>\n",
       "    </tr>\n",
       "    <tr>\n",
       "      <th>Year</th>\n",
       "      <th></th>\n",
       "      <th></th>\n",
       "      <th></th>\n",
       "      <th></th>\n",
       "      <th></th>\n",
       "      <th></th>\n",
       "    </tr>\n",
       "  </thead>\n",
       "  <tbody>\n",
       "    <tr>\n",
       "      <td>1900</td>\n",
       "      <td>7</td>\n",
       "      <td>0</td>\n",
       "      <td>7</td>\n",
       "      <td>7</td>\n",
       "      <td>5</td>\n",
       "      <td>7</td>\n",
       "    </tr>\n",
       "    <tr>\n",
       "      <td>2007</td>\n",
       "      <td>25567</td>\n",
       "      <td>25567</td>\n",
       "      <td>2</td>\n",
       "      <td>2</td>\n",
       "      <td>10289</td>\n",
       "      <td>25560</td>\n",
       "    </tr>\n",
       "    <tr>\n",
       "      <td>2008</td>\n",
       "      <td>30270</td>\n",
       "      <td>30270</td>\n",
       "      <td>2</td>\n",
       "      <td>2</td>\n",
       "      <td>12948</td>\n",
       "      <td>30268</td>\n",
       "    </tr>\n",
       "    <tr>\n",
       "      <td>2009</td>\n",
       "      <td>30900</td>\n",
       "      <td>30900</td>\n",
       "      <td>2</td>\n",
       "      <td>2</td>\n",
       "      <td>14352</td>\n",
       "      <td>30896</td>\n",
       "    </tr>\n",
       "    <tr>\n",
       "      <td>2010</td>\n",
       "      <td>28774</td>\n",
       "      <td>28599</td>\n",
       "      <td>324</td>\n",
       "      <td>324</td>\n",
       "      <td>13228</td>\n",
       "      <td>28769</td>\n",
       "    </tr>\n",
       "    <tr>\n",
       "      <td>2011</td>\n",
       "      <td>30222</td>\n",
       "      <td>29408</td>\n",
       "      <td>1274</td>\n",
       "      <td>1274</td>\n",
       "      <td>14276</td>\n",
       "      <td>30213</td>\n",
       "    </tr>\n",
       "    <tr>\n",
       "      <td>2012</td>\n",
       "      <td>30919</td>\n",
       "      <td>29471</td>\n",
       "      <td>2354</td>\n",
       "      <td>2354</td>\n",
       "      <td>13379</td>\n",
       "      <td>30893</td>\n",
       "    </tr>\n",
       "    <tr>\n",
       "      <td>2013</td>\n",
       "      <td>32096</td>\n",
       "      <td>31056</td>\n",
       "      <td>1734</td>\n",
       "      <td>1734</td>\n",
       "      <td>13035</td>\n",
       "      <td>32001</td>\n",
       "    </tr>\n",
       "    <tr>\n",
       "      <td>2014</td>\n",
       "      <td>33740</td>\n",
       "      <td>33464</td>\n",
       "      <td>657</td>\n",
       "      <td>657</td>\n",
       "      <td>13009</td>\n",
       "      <td>32437</td>\n",
       "    </tr>\n",
       "    <tr>\n",
       "      <td>2015</td>\n",
       "      <td>35302</td>\n",
       "      <td>34853</td>\n",
       "      <td>817</td>\n",
       "      <td>817</td>\n",
       "      <td>12686</td>\n",
       "      <td>34365</td>\n",
       "    </tr>\n",
       "    <tr>\n",
       "      <td>2016</td>\n",
       "      <td>35007</td>\n",
       "      <td>34454</td>\n",
       "      <td>952</td>\n",
       "      <td>952</td>\n",
       "      <td>12067</td>\n",
       "      <td>34621</td>\n",
       "    </tr>\n",
       "    <tr>\n",
       "      <td>2017</td>\n",
       "      <td>30896</td>\n",
       "      <td>30514</td>\n",
       "      <td>851</td>\n",
       "      <td>851</td>\n",
       "      <td>10702</td>\n",
       "      <td>30202</td>\n",
       "    </tr>\n",
       "    <tr>\n",
       "      <td>2018</td>\n",
       "      <td>28366</td>\n",
       "      <td>28151</td>\n",
       "      <td>556</td>\n",
       "      <td>556</td>\n",
       "      <td>10339</td>\n",
       "      <td>27128</td>\n",
       "    </tr>\n",
       "    <tr>\n",
       "      <td>2019</td>\n",
       "      <td>13601</td>\n",
       "      <td>13252</td>\n",
       "      <td>484</td>\n",
       "      <td>484</td>\n",
       "      <td>7498</td>\n",
       "      <td>12648</td>\n",
       "    </tr>\n",
       "    <tr>\n",
       "      <td>2020</td>\n",
       "      <td>55</td>\n",
       "      <td>0</td>\n",
       "      <td>55</td>\n",
       "      <td>55</td>\n",
       "      <td>31</td>\n",
       "      <td>49</td>\n",
       "    </tr>\n",
       "  </tbody>\n",
       "</table>\n",
       "</div>"
      ],
      "text/plain": [
       "      ContactId  PledgeTotal  VolType  VolunteerActivityCnt  BirthYear  Gender\n",
       "Year                                                                          \n",
       "1900          7            0        7                     7          5       7\n",
       "2007      25567        25567        2                     2      10289   25560\n",
       "2008      30270        30270        2                     2      12948   30268\n",
       "2009      30900        30900        2                     2      14352   30896\n",
       "2010      28774        28599      324                   324      13228   28769\n",
       "2011      30222        29408     1274                  1274      14276   30213\n",
       "2012      30919        29471     2354                  2354      13379   30893\n",
       "2013      32096        31056     1734                  1734      13035   32001\n",
       "2014      33740        33464      657                   657      13009   32437\n",
       "2015      35302        34853      817                   817      12686   34365\n",
       "2016      35007        34454      952                   952      12067   34621\n",
       "2017      30896        30514      851                   851      10702   30202\n",
       "2018      28366        28151      556                   556      10339   27128\n",
       "2019      13601        13252      484                   484       7498   12648\n",
       "2020         55            0       55                    55         31      49"
      ]
     },
     "execution_count": 9,
     "metadata": {},
     "output_type": "execute_result"
    }
   ],
   "source": [
    "df.groupby('Year').count()"
   ]
  },
  {
   "cell_type": "code",
   "execution_count": 10,
   "metadata": {},
   "outputs": [],
   "source": [
    "df_standard = df.drop(df[df.VolType == 'Council, Committe or Board'].index).fillna(0)\n",
    "df_council = df.drop(df[df.VolType == 'Standard'].index).fillna(0)\n",
    "\n",
    "df_gender = df.copy()\n",
    "df_copy = df.copy()"
   ]
  },
  {
   "cell_type": "code",
   "execution_count": 11,
   "metadata": {},
   "outputs": [
    {
     "data": {
      "text/html": [
       "<div>\n",
       "<style scoped>\n",
       "    .dataframe tbody tr th:only-of-type {\n",
       "        vertical-align: middle;\n",
       "    }\n",
       "\n",
       "    .dataframe tbody tr th {\n",
       "        vertical-align: top;\n",
       "    }\n",
       "\n",
       "    .dataframe thead th {\n",
       "        text-align: right;\n",
       "    }\n",
       "</style>\n",
       "<table border=\"1\" class=\"dataframe\">\n",
       "  <thead>\n",
       "    <tr style=\"text-align: right;\">\n",
       "      <th></th>\n",
       "      <th>ContactId</th>\n",
       "      <th>Year</th>\n",
       "      <th>PledgeTotal</th>\n",
       "      <th>VolType</th>\n",
       "      <th>VolunteerActivityCnt</th>\n",
       "      <th>BirthYear</th>\n",
       "      <th>Gender</th>\n",
       "    </tr>\n",
       "  </thead>\n",
       "  <tbody>\n",
       "    <tr>\n",
       "      <td>0</td>\n",
       "      <td>874ddbce-11cd-e111-941f-00259073dc22</td>\n",
       "      <td>2007</td>\n",
       "      <td>52.00</td>\n",
       "      <td>0</td>\n",
       "      <td>0.0</td>\n",
       "      <td>1977.0</td>\n",
       "      <td>female</td>\n",
       "    </tr>\n",
       "    <tr>\n",
       "      <td>1</td>\n",
       "      <td>9a4ddbce-11cd-e111-941f-00259073dc22</td>\n",
       "      <td>2007</td>\n",
       "      <td>80.00</td>\n",
       "      <td>0</td>\n",
       "      <td>0.0</td>\n",
       "      <td>1968.0</td>\n",
       "      <td>female</td>\n",
       "    </tr>\n",
       "    <tr>\n",
       "      <td>2</td>\n",
       "      <td>5e4edbce-11cd-e111-941f-00259073dc22</td>\n",
       "      <td>2007</td>\n",
       "      <td>10000.00</td>\n",
       "      <td>0</td>\n",
       "      <td>0.0</td>\n",
       "      <td>1958.0</td>\n",
       "      <td>male</td>\n",
       "    </tr>\n",
       "    <tr>\n",
       "      <td>3</td>\n",
       "      <td>c150dbce-11cd-e111-941f-00259073dc22</td>\n",
       "      <td>2007</td>\n",
       "      <td>120.00</td>\n",
       "      <td>0</td>\n",
       "      <td>0.0</td>\n",
       "      <td>0.0</td>\n",
       "      <td>male</td>\n",
       "    </tr>\n",
       "    <tr>\n",
       "      <td>4</td>\n",
       "      <td>0b53dbce-11cd-e111-941f-00259073dc22</td>\n",
       "      <td>2007</td>\n",
       "      <td>500.16</td>\n",
       "      <td>0</td>\n",
       "      <td>0.0</td>\n",
       "      <td>1947.0</td>\n",
       "      <td>female</td>\n",
       "    </tr>\n",
       "  </tbody>\n",
       "</table>\n",
       "</div>"
      ],
      "text/plain": [
       "                              ContactId  Year  PledgeTotal VolType  \\\n",
       "0  874ddbce-11cd-e111-941f-00259073dc22  2007        52.00       0   \n",
       "1  9a4ddbce-11cd-e111-941f-00259073dc22  2007        80.00       0   \n",
       "2  5e4edbce-11cd-e111-941f-00259073dc22  2007     10000.00       0   \n",
       "3  c150dbce-11cd-e111-941f-00259073dc22  2007       120.00       0   \n",
       "4  0b53dbce-11cd-e111-941f-00259073dc22  2007       500.16       0   \n",
       "\n",
       "   VolunteerActivityCnt  BirthYear  Gender  \n",
       "0                   0.0     1977.0  female  \n",
       "1                   0.0     1968.0  female  \n",
       "2                   0.0     1958.0    male  \n",
       "3                   0.0        0.0    male  \n",
       "4                   0.0     1947.0  female  "
      ]
     },
     "execution_count": 11,
     "metadata": {},
     "output_type": "execute_result"
    }
   ],
   "source": [
    "# just standard and all other donators\n",
    "df_standard.head()"
   ]
  },
  {
   "cell_type": "code",
   "execution_count": 12,
   "metadata": {},
   "outputs": [
    {
     "data": {
      "text/plain": [
       "(384090, 7)"
      ]
     },
     "execution_count": 12,
     "metadata": {},
     "output_type": "execute_result"
    }
   ],
   "source": [
    "df_standard.shape"
   ]
  },
  {
   "cell_type": "code",
   "execution_count": 13,
   "metadata": {},
   "outputs": [
    {
     "data": {
      "text/plain": [
       "(377283, 7)"
      ]
     },
     "execution_count": 13,
     "metadata": {},
     "output_type": "execute_result"
    }
   ],
   "source": [
    "# just council and other donators (excludes standard type)\n",
    "df_council.shape"
   ]
  },
  {
   "cell_type": "code",
   "execution_count": 14,
   "metadata": {},
   "outputs": [
    {
     "data": {
      "text/html": [
       "<div>\n",
       "<style scoped>\n",
       "    .dataframe tbody tr th:only-of-type {\n",
       "        vertical-align: middle;\n",
       "    }\n",
       "\n",
       "    .dataframe tbody tr th {\n",
       "        vertical-align: top;\n",
       "    }\n",
       "\n",
       "    .dataframe thead th {\n",
       "        text-align: right;\n",
       "    }\n",
       "</style>\n",
       "<table border=\"1\" class=\"dataframe\">\n",
       "  <thead>\n",
       "    <tr style=\"text-align: right;\">\n",
       "      <th></th>\n",
       "      <th>ContactId</th>\n",
       "      <th>Year</th>\n",
       "      <th>PledgeTotal</th>\n",
       "      <th>VolType</th>\n",
       "      <th>BirthYear</th>\n",
       "      <th>Gender</th>\n",
       "    </tr>\n",
       "    <tr>\n",
       "      <th>VolunteerActivityCnt</th>\n",
       "      <th></th>\n",
       "      <th></th>\n",
       "      <th></th>\n",
       "      <th></th>\n",
       "      <th></th>\n",
       "      <th></th>\n",
       "    </tr>\n",
       "  </thead>\n",
       "  <tbody>\n",
       "    <tr>\n",
       "      <td>1.0</td>\n",
       "      <td>8432</td>\n",
       "      <td>8432</td>\n",
       "      <td>3301</td>\n",
       "      <td>8432</td>\n",
       "      <td>2678</td>\n",
       "      <td>7908</td>\n",
       "    </tr>\n",
       "    <tr>\n",
       "      <td>2.0</td>\n",
       "      <td>886</td>\n",
       "      <td>886</td>\n",
       "      <td>482</td>\n",
       "      <td>886</td>\n",
       "      <td>477</td>\n",
       "      <td>855</td>\n",
       "    </tr>\n",
       "    <tr>\n",
       "      <td>3.0</td>\n",
       "      <td>232</td>\n",
       "      <td>232</td>\n",
       "      <td>150</td>\n",
       "      <td>232</td>\n",
       "      <td>136</td>\n",
       "      <td>219</td>\n",
       "    </tr>\n",
       "    <tr>\n",
       "      <td>4.0</td>\n",
       "      <td>128</td>\n",
       "      <td>128</td>\n",
       "      <td>78</td>\n",
       "      <td>128</td>\n",
       "      <td>84</td>\n",
       "      <td>123</td>\n",
       "    </tr>\n",
       "    <tr>\n",
       "      <td>5.0</td>\n",
       "      <td>80</td>\n",
       "      <td>80</td>\n",
       "      <td>51</td>\n",
       "      <td>80</td>\n",
       "      <td>47</td>\n",
       "      <td>74</td>\n",
       "    </tr>\n",
       "    <tr>\n",
       "      <td>6.0</td>\n",
       "      <td>78</td>\n",
       "      <td>78</td>\n",
       "      <td>50</td>\n",
       "      <td>78</td>\n",
       "      <td>53</td>\n",
       "      <td>72</td>\n",
       "    </tr>\n",
       "    <tr>\n",
       "      <td>7.0</td>\n",
       "      <td>38</td>\n",
       "      <td>38</td>\n",
       "      <td>34</td>\n",
       "      <td>38</td>\n",
       "      <td>30</td>\n",
       "      <td>38</td>\n",
       "    </tr>\n",
       "    <tr>\n",
       "      <td>8.0</td>\n",
       "      <td>20</td>\n",
       "      <td>20</td>\n",
       "      <td>12</td>\n",
       "      <td>20</td>\n",
       "      <td>12</td>\n",
       "      <td>19</td>\n",
       "    </tr>\n",
       "    <tr>\n",
       "      <td>9.0</td>\n",
       "      <td>31</td>\n",
       "      <td>31</td>\n",
       "      <td>26</td>\n",
       "      <td>31</td>\n",
       "      <td>23</td>\n",
       "      <td>31</td>\n",
       "    </tr>\n",
       "    <tr>\n",
       "      <td>10.0</td>\n",
       "      <td>50</td>\n",
       "      <td>50</td>\n",
       "      <td>39</td>\n",
       "      <td>50</td>\n",
       "      <td>31</td>\n",
       "      <td>49</td>\n",
       "    </tr>\n",
       "    <tr>\n",
       "      <td>11.0</td>\n",
       "      <td>21</td>\n",
       "      <td>21</td>\n",
       "      <td>16</td>\n",
       "      <td>21</td>\n",
       "      <td>17</td>\n",
       "      <td>21</td>\n",
       "    </tr>\n",
       "    <tr>\n",
       "      <td>12.0</td>\n",
       "      <td>12</td>\n",
       "      <td>12</td>\n",
       "      <td>11</td>\n",
       "      <td>12</td>\n",
       "      <td>10</td>\n",
       "      <td>12</td>\n",
       "    </tr>\n",
       "    <tr>\n",
       "      <td>13.0</td>\n",
       "      <td>15</td>\n",
       "      <td>15</td>\n",
       "      <td>12</td>\n",
       "      <td>15</td>\n",
       "      <td>13</td>\n",
       "      <td>15</td>\n",
       "    </tr>\n",
       "    <tr>\n",
       "      <td>14.0</td>\n",
       "      <td>8</td>\n",
       "      <td>8</td>\n",
       "      <td>8</td>\n",
       "      <td>8</td>\n",
       "      <td>8</td>\n",
       "      <td>8</td>\n",
       "    </tr>\n",
       "    <tr>\n",
       "      <td>15.0</td>\n",
       "      <td>11</td>\n",
       "      <td>11</td>\n",
       "      <td>11</td>\n",
       "      <td>11</td>\n",
       "      <td>10</td>\n",
       "      <td>11</td>\n",
       "    </tr>\n",
       "    <tr>\n",
       "      <td>16.0</td>\n",
       "      <td>6</td>\n",
       "      <td>6</td>\n",
       "      <td>6</td>\n",
       "      <td>6</td>\n",
       "      <td>5</td>\n",
       "      <td>6</td>\n",
       "    </tr>\n",
       "    <tr>\n",
       "      <td>17.0</td>\n",
       "      <td>6</td>\n",
       "      <td>6</td>\n",
       "      <td>5</td>\n",
       "      <td>6</td>\n",
       "      <td>5</td>\n",
       "      <td>6</td>\n",
       "    </tr>\n",
       "    <tr>\n",
       "      <td>18.0</td>\n",
       "      <td>2</td>\n",
       "      <td>2</td>\n",
       "      <td>2</td>\n",
       "      <td>2</td>\n",
       "      <td>2</td>\n",
       "      <td>2</td>\n",
       "    </tr>\n",
       "    <tr>\n",
       "      <td>19.0</td>\n",
       "      <td>3</td>\n",
       "      <td>3</td>\n",
       "      <td>3</td>\n",
       "      <td>3</td>\n",
       "      <td>3</td>\n",
       "      <td>3</td>\n",
       "    </tr>\n",
       "    <tr>\n",
       "      <td>20.0</td>\n",
       "      <td>3</td>\n",
       "      <td>3</td>\n",
       "      <td>2</td>\n",
       "      <td>3</td>\n",
       "      <td>1</td>\n",
       "      <td>3</td>\n",
       "    </tr>\n",
       "    <tr>\n",
       "      <td>21.0</td>\n",
       "      <td>2</td>\n",
       "      <td>2</td>\n",
       "      <td>2</td>\n",
       "      <td>2</td>\n",
       "      <td>2</td>\n",
       "      <td>2</td>\n",
       "    </tr>\n",
       "    <tr>\n",
       "      <td>22.0</td>\n",
       "      <td>1</td>\n",
       "      <td>1</td>\n",
       "      <td>1</td>\n",
       "      <td>1</td>\n",
       "      <td>1</td>\n",
       "      <td>1</td>\n",
       "    </tr>\n",
       "    <tr>\n",
       "      <td>23.0</td>\n",
       "      <td>1</td>\n",
       "      <td>1</td>\n",
       "      <td>1</td>\n",
       "      <td>1</td>\n",
       "      <td>1</td>\n",
       "      <td>1</td>\n",
       "    </tr>\n",
       "    <tr>\n",
       "      <td>24.0</td>\n",
       "      <td>2</td>\n",
       "      <td>2</td>\n",
       "      <td>2</td>\n",
       "      <td>2</td>\n",
       "      <td>2</td>\n",
       "      <td>2</td>\n",
       "    </tr>\n",
       "    <tr>\n",
       "      <td>25.0</td>\n",
       "      <td>2</td>\n",
       "      <td>2</td>\n",
       "      <td>2</td>\n",
       "      <td>2</td>\n",
       "      <td>2</td>\n",
       "      <td>2</td>\n",
       "    </tr>\n",
       "    <tr>\n",
       "      <td>28.0</td>\n",
       "      <td>1</td>\n",
       "      <td>1</td>\n",
       "      <td>1</td>\n",
       "      <td>1</td>\n",
       "      <td>1</td>\n",
       "      <td>1</td>\n",
       "    </tr>\n",
       "  </tbody>\n",
       "</table>\n",
       "</div>"
      ],
      "text/plain": [
       "                      ContactId  Year  PledgeTotal  VolType  BirthYear  Gender\n",
       "VolunteerActivityCnt                                                          \n",
       "1.0                        8432  8432         3301     8432       2678    7908\n",
       "2.0                         886   886          482      886        477     855\n",
       "3.0                         232   232          150      232        136     219\n",
       "4.0                         128   128           78      128         84     123\n",
       "5.0                          80    80           51       80         47      74\n",
       "6.0                          78    78           50       78         53      72\n",
       "7.0                          38    38           34       38         30      38\n",
       "8.0                          20    20           12       20         12      19\n",
       "9.0                          31    31           26       31         23      31\n",
       "10.0                         50    50           39       50         31      49\n",
       "11.0                         21    21           16       21         17      21\n",
       "12.0                         12    12           11       12         10      12\n",
       "13.0                         15    15           12       15         13      15\n",
       "14.0                          8     8            8        8          8       8\n",
       "15.0                         11    11           11       11         10      11\n",
       "16.0                          6     6            6        6          5       6\n",
       "17.0                          6     6            5        6          5       6\n",
       "18.0                          2     2            2        2          2       2\n",
       "19.0                          3     3            3        3          3       3\n",
       "20.0                          3     3            2        3          1       3\n",
       "21.0                          2     2            2        2          2       2\n",
       "22.0                          1     1            1        1          1       1\n",
       "23.0                          1     1            1        1          1       1\n",
       "24.0                          2     2            2        2          2       2\n",
       "25.0                          2     2            2        2          2       2\n",
       "28.0                          1     1            1        1          1       1"
      ]
     },
     "execution_count": 14,
     "metadata": {},
     "output_type": "execute_result"
    }
   ],
   "source": [
    "# groupby number of volunteer activities\n",
    "df.groupby('VolunteerActivityCnt').count()"
   ]
  },
  {
   "cell_type": "code",
   "execution_count": 15,
   "metadata": {},
   "outputs": [],
   "source": [
    "df = df.fillna(0)"
   ]
  },
  {
   "cell_type": "code",
   "execution_count": 16,
   "metadata": {},
   "outputs": [
    {
     "data": {
      "text/html": [
       "<div>\n",
       "<style scoped>\n",
       "    .dataframe tbody tr th:only-of-type {\n",
       "        vertical-align: middle;\n",
       "    }\n",
       "\n",
       "    .dataframe tbody tr th {\n",
       "        vertical-align: top;\n",
       "    }\n",
       "\n",
       "    .dataframe thead th {\n",
       "        text-align: right;\n",
       "    }\n",
       "</style>\n",
       "<table border=\"1\" class=\"dataframe\">\n",
       "  <thead>\n",
       "    <tr style=\"text-align: right;\">\n",
       "      <th></th>\n",
       "      <th>ContactId</th>\n",
       "      <th>Year</th>\n",
       "      <th>PledgeTotal</th>\n",
       "      <th>VolType</th>\n",
       "      <th>VolunteerActivityCnt</th>\n",
       "      <th>BirthYear</th>\n",
       "      <th>Gender</th>\n",
       "    </tr>\n",
       "  </thead>\n",
       "  <tbody>\n",
       "    <tr>\n",
       "      <td>0</td>\n",
       "      <td>874ddbce-11cd-e111-941f-00259073dc22</td>\n",
       "      <td>2007</td>\n",
       "      <td>52.00</td>\n",
       "      <td>0</td>\n",
       "      <td>0.0</td>\n",
       "      <td>1977.0</td>\n",
       "      <td>female</td>\n",
       "    </tr>\n",
       "    <tr>\n",
       "      <td>1</td>\n",
       "      <td>9a4ddbce-11cd-e111-941f-00259073dc22</td>\n",
       "      <td>2007</td>\n",
       "      <td>80.00</td>\n",
       "      <td>0</td>\n",
       "      <td>0.0</td>\n",
       "      <td>1968.0</td>\n",
       "      <td>female</td>\n",
       "    </tr>\n",
       "    <tr>\n",
       "      <td>2</td>\n",
       "      <td>5e4edbce-11cd-e111-941f-00259073dc22</td>\n",
       "      <td>2007</td>\n",
       "      <td>10000.00</td>\n",
       "      <td>0</td>\n",
       "      <td>0.0</td>\n",
       "      <td>1958.0</td>\n",
       "      <td>male</td>\n",
       "    </tr>\n",
       "    <tr>\n",
       "      <td>3</td>\n",
       "      <td>c150dbce-11cd-e111-941f-00259073dc22</td>\n",
       "      <td>2007</td>\n",
       "      <td>120.00</td>\n",
       "      <td>0</td>\n",
       "      <td>0.0</td>\n",
       "      <td>0.0</td>\n",
       "      <td>male</td>\n",
       "    </tr>\n",
       "    <tr>\n",
       "      <td>4</td>\n",
       "      <td>0b53dbce-11cd-e111-941f-00259073dc22</td>\n",
       "      <td>2007</td>\n",
       "      <td>500.16</td>\n",
       "      <td>0</td>\n",
       "      <td>0.0</td>\n",
       "      <td>1947.0</td>\n",
       "      <td>female</td>\n",
       "    </tr>\n",
       "  </tbody>\n",
       "</table>\n",
       "</div>"
      ],
      "text/plain": [
       "                              ContactId  Year  PledgeTotal VolType  \\\n",
       "0  874ddbce-11cd-e111-941f-00259073dc22  2007        52.00       0   \n",
       "1  9a4ddbce-11cd-e111-941f-00259073dc22  2007        80.00       0   \n",
       "2  5e4edbce-11cd-e111-941f-00259073dc22  2007     10000.00       0   \n",
       "3  c150dbce-11cd-e111-941f-00259073dc22  2007       120.00       0   \n",
       "4  0b53dbce-11cd-e111-941f-00259073dc22  2007       500.16       0   \n",
       "\n",
       "   VolunteerActivityCnt  BirthYear  Gender  \n",
       "0                   0.0     1977.0  female  \n",
       "1                   0.0     1968.0  female  \n",
       "2                   0.0     1958.0    male  \n",
       "3                   0.0        0.0    male  \n",
       "4                   0.0     1947.0  female  "
      ]
     },
     "execution_count": 16,
     "metadata": {},
     "output_type": "execute_result"
    }
   ],
   "source": [
    "df.head()"
   ]
  },
  {
   "cell_type": "code",
   "execution_count": 17,
   "metadata": {},
   "outputs": [],
   "source": [
    "# renaming some columns\n",
    "df = df.rename(columns={'VolunteerActivityCnt': 'times'})\n",
    "df_standard = df_standard.rename(columns={'VolunteerActivityCnt': 'times'})\n",
    "df_council = df_council.rename(columns={'VolunteerActivityCnt': 'times'})"
   ]
  },
  {
   "cell_type": "code",
   "execution_count": 18,
   "metadata": {},
   "outputs": [
    {
     "data": {
      "text/html": [
       "<div>\n",
       "<style scoped>\n",
       "    .dataframe tbody tr th:only-of-type {\n",
       "        vertical-align: middle;\n",
       "    }\n",
       "\n",
       "    .dataframe tbody tr th {\n",
       "        vertical-align: top;\n",
       "    }\n",
       "\n",
       "    .dataframe thead th {\n",
       "        text-align: right;\n",
       "    }\n",
       "</style>\n",
       "<table border=\"1\" class=\"dataframe\">\n",
       "  <thead>\n",
       "    <tr style=\"text-align: right;\">\n",
       "      <th></th>\n",
       "      <th>ContactId</th>\n",
       "      <th>Year</th>\n",
       "      <th>PledgeTotal</th>\n",
       "      <th>VolType</th>\n",
       "      <th>times</th>\n",
       "      <th>BirthYear</th>\n",
       "      <th>Gender</th>\n",
       "    </tr>\n",
       "  </thead>\n",
       "  <tbody>\n",
       "    <tr>\n",
       "      <td>0</td>\n",
       "      <td>874ddbce-11cd-e111-941f-00259073dc22</td>\n",
       "      <td>2007</td>\n",
       "      <td>52.00</td>\n",
       "      <td>0</td>\n",
       "      <td>0.0</td>\n",
       "      <td>1977.0</td>\n",
       "      <td>female</td>\n",
       "    </tr>\n",
       "    <tr>\n",
       "      <td>1</td>\n",
       "      <td>9a4ddbce-11cd-e111-941f-00259073dc22</td>\n",
       "      <td>2007</td>\n",
       "      <td>80.00</td>\n",
       "      <td>0</td>\n",
       "      <td>0.0</td>\n",
       "      <td>1968.0</td>\n",
       "      <td>female</td>\n",
       "    </tr>\n",
       "    <tr>\n",
       "      <td>2</td>\n",
       "      <td>5e4edbce-11cd-e111-941f-00259073dc22</td>\n",
       "      <td>2007</td>\n",
       "      <td>10000.00</td>\n",
       "      <td>0</td>\n",
       "      <td>0.0</td>\n",
       "      <td>1958.0</td>\n",
       "      <td>male</td>\n",
       "    </tr>\n",
       "    <tr>\n",
       "      <td>3</td>\n",
       "      <td>c150dbce-11cd-e111-941f-00259073dc22</td>\n",
       "      <td>2007</td>\n",
       "      <td>120.00</td>\n",
       "      <td>0</td>\n",
       "      <td>0.0</td>\n",
       "      <td>0.0</td>\n",
       "      <td>male</td>\n",
       "    </tr>\n",
       "    <tr>\n",
       "      <td>4</td>\n",
       "      <td>0b53dbce-11cd-e111-941f-00259073dc22</td>\n",
       "      <td>2007</td>\n",
       "      <td>500.16</td>\n",
       "      <td>0</td>\n",
       "      <td>0.0</td>\n",
       "      <td>1947.0</td>\n",
       "      <td>female</td>\n",
       "    </tr>\n",
       "  </tbody>\n",
       "</table>\n",
       "</div>"
      ],
      "text/plain": [
       "                              ContactId  Year  PledgeTotal VolType  times  \\\n",
       "0  874ddbce-11cd-e111-941f-00259073dc22  2007        52.00       0    0.0   \n",
       "1  9a4ddbce-11cd-e111-941f-00259073dc22  2007        80.00       0    0.0   \n",
       "2  5e4edbce-11cd-e111-941f-00259073dc22  2007     10000.00       0    0.0   \n",
       "3  c150dbce-11cd-e111-941f-00259073dc22  2007       120.00       0    0.0   \n",
       "4  0b53dbce-11cd-e111-941f-00259073dc22  2007       500.16       0    0.0   \n",
       "\n",
       "   BirthYear  Gender  \n",
       "0     1977.0  female  \n",
       "1     1968.0  female  \n",
       "2     1958.0    male  \n",
       "3        0.0    male  \n",
       "4     1947.0  female  "
      ]
     },
     "execution_count": 18,
     "metadata": {},
     "output_type": "execute_result"
    }
   ],
   "source": [
    "df.head()"
   ]
  },
  {
   "cell_type": "code",
   "execution_count": 19,
   "metadata": {},
   "outputs": [
    {
     "data": {
      "text/plain": [
       "Year           2013.786913\n",
       "PledgeTotal     567.161677\n",
       "times             1.479098\n",
       "BirthYear       714.729520\n",
       "dtype: float64"
      ]
     },
     "execution_count": 19,
     "metadata": {},
     "output_type": "execute_result"
    }
   ],
   "source": [
    "df.loc[df['times'] != 0].mean()"
   ]
  },
  {
   "cell_type": "markdown",
   "metadata": {},
   "source": [
    "## Volunteers:"
   ]
  },
  {
   "cell_type": "code",
   "execution_count": 20,
   "metadata": {},
   "outputs": [
    {
     "name": "stdout",
     "output_type": "stream",
     "text": [
      "10071\n",
      "567.1616770926436\n",
      "0.0\n",
      "100,000.0\n",
      "5,711,885.25\n"
     ]
    }
   ],
   "source": [
    "# Volunteers:\n",
    "\n",
    "print(df.PledgeTotal.loc[df.times != 0].count())\n",
    "print(df.PledgeTotal.loc[df.times != 0].mean())\n",
    "print(df.PledgeTotal.loc[df.times != 0].median())\n",
    "print('{:,}'.format(df.PledgeTotal.loc[df.times != 0].max()))\n",
    "print('{:,}'.format(df.PledgeTotal.loc[df.times != 0].sum()))"
   ]
  },
  {
   "cell_type": "code",
   "execution_count": 21,
   "metadata": {},
   "outputs": [
    {
     "data": {
      "text/plain": [
       "<matplotlib.axes._subplots.AxesSubplot at 0x1dbcd4c96c8>"
      ]
     },
     "execution_count": 21,
     "metadata": {},
     "output_type": "execute_result"
    },
    {
     "data": {
      "image/png": "[encoded data removed]",
      "text/plain": [
       "<Figure size 864x432 with 1 Axes>"
      ]
     },
     "metadata": {
      "needs_background": "light"
     },
     "output_type": "display_data"
    }
   ],
   "source": [
    "# Volunteers\n",
    "\n",
    "df.PledgeTotal.loc[df.times != 0].hist(figsize=(12, 6), log=True)"
   ]
  },
  {
   "cell_type": "code",
   "execution_count": 22,
   "metadata": {},
   "outputs": [],
   "source": [
    "# remove outlier\n",
    "\n",
    "df1 = df.drop(df.query('PledgeTotal == 100000').index)"
   ]
  },
  {
   "cell_type": "code",
   "execution_count": 23,
   "metadata": {},
   "outputs": [
    {
     "name": "stdout",
     "output_type": "stream",
     "text": [
      "557.2875124131094\n",
      "0.0\n",
      "55,000.0\n",
      "5,611,885.25\n"
     ]
    }
   ],
   "source": [
    "print(df1.PledgeTotal.loc[df1.times != 0].mean())\n",
    "print(df1.PledgeTotal.loc[df1.times != 0].median())\n",
    "print('{:,}'.format(df1.PledgeTotal.loc[df1.times != 0].max()))\n",
    "print('{:,}'.format(df1.PledgeTotal.loc[df1.times != 0].sum()))"
   ]
  },
  {
   "cell_type": "code",
   "execution_count": 24,
   "metadata": {},
   "outputs": [
    {
     "data": {
      "text/plain": [
       "<matplotlib.axes._subplots.AxesSubplot at 0x1dbcdb40fc8>"
      ]
     },
     "execution_count": 24,
     "metadata": {},
     "output_type": "execute_result"
    },
    {
     "data": {
      "image/png": "[encoded data removed]",
      "text/plain": [
       "<Figure size 864x432 with 1 Axes>"
      ]
     },
     "metadata": {
      "needs_background": "light"
     },
     "output_type": "display_data"
    }
   ],
   "source": [
    "# without outlier\n",
    "\n",
    "df1.PledgeTotal.loc[df1.times != 0].hist(figsize=(12, 6), log=True)"
   ]
  },
  {
   "cell_type": "code",
   "execution_count": 25,
   "metadata": {},
   "outputs": [],
   "source": [
    "df_plot = df.copy()\n",
    "df_plot['v'] = pd.Series(np.where(df.times.values > 0, 0, 1),\n",
    "          df.index)\n",
    "\n",
    "df_standard['v'] = pd.Series(np.where(df.times.values > 0, 0, 1),\n",
    "          df.index)\n",
    "\n",
    "df_council['v'] = pd.Series(np.where(df.times.values > 0, 0, 1),\n",
    "          df.index)"
   ]
  },
  {
   "cell_type": "code",
   "execution_count": 26,
   "metadata": {},
   "outputs": [
    {
     "data": {
      "text/html": [
       "<div>\n",
       "<style scoped>\n",
       "    .dataframe tbody tr th:only-of-type {\n",
       "        vertical-align: middle;\n",
       "    }\n",
       "\n",
       "    .dataframe tbody tr th {\n",
       "        vertical-align: top;\n",
       "    }\n",
       "\n",
       "    .dataframe thead th {\n",
       "        text-align: right;\n",
       "    }\n",
       "</style>\n",
       "<table border=\"1\" class=\"dataframe\">\n",
       "  <thead>\n",
       "    <tr style=\"text-align: right;\">\n",
       "      <th></th>\n",
       "      <th>ContactId</th>\n",
       "      <th>Year</th>\n",
       "      <th>PledgeTotal</th>\n",
       "      <th>VolType</th>\n",
       "      <th>times</th>\n",
       "      <th>BirthYear</th>\n",
       "      <th>Gender</th>\n",
       "      <th>v</th>\n",
       "    </tr>\n",
       "  </thead>\n",
       "  <tbody>\n",
       "    <tr>\n",
       "      <td>0</td>\n",
       "      <td>874ddbce-11cd-e111-941f-00259073dc22</td>\n",
       "      <td>2007</td>\n",
       "      <td>52.00</td>\n",
       "      <td>0</td>\n",
       "      <td>0.0</td>\n",
       "      <td>1977.0</td>\n",
       "      <td>female</td>\n",
       "      <td>1</td>\n",
       "    </tr>\n",
       "    <tr>\n",
       "      <td>1</td>\n",
       "      <td>9a4ddbce-11cd-e111-941f-00259073dc22</td>\n",
       "      <td>2007</td>\n",
       "      <td>80.00</td>\n",
       "      <td>0</td>\n",
       "      <td>0.0</td>\n",
       "      <td>1968.0</td>\n",
       "      <td>female</td>\n",
       "      <td>1</td>\n",
       "    </tr>\n",
       "    <tr>\n",
       "      <td>2</td>\n",
       "      <td>5e4edbce-11cd-e111-941f-00259073dc22</td>\n",
       "      <td>2007</td>\n",
       "      <td>10000.00</td>\n",
       "      <td>0</td>\n",
       "      <td>0.0</td>\n",
       "      <td>1958.0</td>\n",
       "      <td>male</td>\n",
       "      <td>1</td>\n",
       "    </tr>\n",
       "    <tr>\n",
       "      <td>3</td>\n",
       "      <td>c150dbce-11cd-e111-941f-00259073dc22</td>\n",
       "      <td>2007</td>\n",
       "      <td>120.00</td>\n",
       "      <td>0</td>\n",
       "      <td>0.0</td>\n",
       "      <td>0.0</td>\n",
       "      <td>male</td>\n",
       "      <td>1</td>\n",
       "    </tr>\n",
       "    <tr>\n",
       "      <td>4</td>\n",
       "      <td>0b53dbce-11cd-e111-941f-00259073dc22</td>\n",
       "      <td>2007</td>\n",
       "      <td>500.16</td>\n",
       "      <td>0</td>\n",
       "      <td>0.0</td>\n",
       "      <td>1947.0</td>\n",
       "      <td>female</td>\n",
       "      <td>1</td>\n",
       "    </tr>\n",
       "  </tbody>\n",
       "</table>\n",
       "</div>"
      ],
      "text/plain": [
       "                              ContactId  Year  PledgeTotal VolType  times  \\\n",
       "0  874ddbce-11cd-e111-941f-00259073dc22  2007        52.00       0    0.0   \n",
       "1  9a4ddbce-11cd-e111-941f-00259073dc22  2007        80.00       0    0.0   \n",
       "2  5e4edbce-11cd-e111-941f-00259073dc22  2007     10000.00       0    0.0   \n",
       "3  c150dbce-11cd-e111-941f-00259073dc22  2007       120.00       0    0.0   \n",
       "4  0b53dbce-11cd-e111-941f-00259073dc22  2007       500.16       0    0.0   \n",
       "\n",
       "   BirthYear  Gender  v  \n",
       "0     1977.0  female  1  \n",
       "1     1968.0  female  1  \n",
       "2     1958.0    male  1  \n",
       "3        0.0    male  1  \n",
       "4     1947.0  female  1  "
      ]
     },
     "execution_count": 26,
     "metadata": {},
     "output_type": "execute_result"
    }
   ],
   "source": [
    "df_standard.head()"
   ]
  },
  {
   "cell_type": "markdown",
   "metadata": {},
   "source": [
    "## Non Volunteers:"
   ]
  },
  {
   "cell_type": "code",
   "execution_count": 27,
   "metadata": {},
   "outputs": [
    {
     "name": "stdout",
     "output_type": "stream",
     "text": [
      "375651\n",
      "264.8322319386922\n",
      "104.0\n",
      "304,142.82\n",
      "99,484,492.76\n"
     ]
    }
   ],
   "source": [
    "# Non Volunteers:\n",
    "\n",
    "print(df.PledgeTotal.loc[df.times == 0].count())\n",
    "print(df.PledgeTotal.loc[df.times == 0].mean())\n",
    "print(df.PledgeTotal.loc[df.times == 0].median())\n",
    "print('{:,}'.format(df.PledgeTotal.loc[df.times == 0].max()))\n",
    "print('{:,}'.format(df.PledgeTotal.loc[df.times == 0].sum()))"
   ]
  },
  {
   "cell_type": "code",
   "execution_count": 28,
   "metadata": {},
   "outputs": [
    {
     "data": {
      "text/plain": [
       "<matplotlib.axes._subplots.AxesSubplot at 0x1dbcffb5788>"
      ]
     },
     "execution_count": 28,
     "metadata": {},
     "output_type": "execute_result"
    },
    {
     "data": {
      "image/png": "[encoded data removed]",
      "text/plain": [
       "<Figure size 864x432 with 1 Axes>"
      ]
     },
     "metadata": {
      "needs_background": "light"
     },
     "output_type": "display_data"
    }
   ],
   "source": [
    "# Non Volunteers\n",
    "\n",
    "df.PledgeTotal.loc[df.times == 0].hist(figsize=(12, 6), log=True)"
   ]
  },
  {
   "cell_type": "code",
   "execution_count": 29,
   "metadata": {},
   "outputs": [],
   "source": [
    "# remove outliers\n",
    "\n",
    "df2 = df.drop(df.query('PledgeTotal == 304142.82').index)\n",
    "df2 = df2.drop(df2.query('PledgeTotal == 303500').index)"
   ]
  },
  {
   "cell_type": "code",
   "execution_count": 30,
   "metadata": {},
   "outputs": [
    {
     "name": "stdout",
     "output_type": "stream",
     "text": [
      "263.21606057783106\n",
      "104.0\n",
      "151,000.0\n",
      "98,876,849.94\n"
     ]
    }
   ],
   "source": [
    "print(df2.PledgeTotal.loc[df2.times == 0].mean())\n",
    "print(df2.PledgeTotal.loc[df2.times == 0].median())\n",
    "print('{:,}'.format(df2.PledgeTotal.loc[df2.times == 0].max()))\n",
    "print('{:,}'.format(df2.PledgeTotal.loc[df2.times == 0].sum()))"
   ]
  },
  {
   "cell_type": "markdown",
   "metadata": {},
   "source": [
    "Removing the outlier contributions don't seem to make much of a difference for any meaningful calculation with this data."
   ]
  },
  {
   "cell_type": "code",
   "execution_count": 31,
   "metadata": {},
   "outputs": [
    {
     "data": {
      "text/plain": [
       "<matplotlib.axes._subplots.AxesSubplot at 0x1dbd24dc688>"
      ]
     },
     "execution_count": 31,
     "metadata": {},
     "output_type": "execute_result"
    },
    {
     "data": {
      "image/png": "[encoded data removed]",
      "text/plain": [
       "<Figure size 864x432 with 1 Axes>"
      ]
     },
     "metadata": {
      "needs_background": "light"
     },
     "output_type": "display_data"
    }
   ],
   "source": [
    "# without outlier\n",
    "\n",
    "df2.PledgeTotal.loc[df2.times == 0].hist(figsize=(12, 6), log=True)"
   ]
  },
  {
   "cell_type": "markdown",
   "metadata": {},
   "source": [
    "The following graph shows the number of volunteers who donate vs all other people who donate:"
   ]
  },
  {
   "cell_type": "code",
   "execution_count": 32,
   "metadata": {},
   "outputs": [
    {
     "data": {
      "text/plain": [
       "Text(0.5, 1.0, 'Number of volunteers vs. number of non volunteers who donated')"
      ]
     },
     "execution_count": 32,
     "metadata": {},
     "output_type": "execute_result"
    },
    {
     "data": {
      "image/png": "[encoded data removed]",
      "text/plain": [
       "<Figure size 864x432 with 1 Axes>"
      ]
     },
     "metadata": {
      "needs_background": "light"
     },
     "output_type": "display_data"
    }
   ],
   "source": [
    "v = df.PledgeTotal.loc[df.times != 0].count()\n",
    "nv = df.PledgeTotal.loc[df.times == 0].count()\n",
    "\n",
    "actions = [v, nv]\n",
    "index = ['Volunteers', 'Non Volunteers']\n",
    "df = pd.DataFrame({'actions': actions}, index=index)\n",
    "ax = df.plot.bar(rot=0, figsize=(12, 6))\n",
    "ax.set_axisbelow(True)\n",
    "ax.minorticks_on()\n",
    "ax.grid(which='major', linestyle='-', linewidth='0.5', color='red')\n",
    "plt.ylabel('Occurrences')\n",
    "plt.title(\"Number of volunteers vs. number of non volunteers who donated\")"
   ]
  },
  {
   "cell_type": "code",
   "execution_count": 33,
   "metadata": {},
   "outputs": [
    {
     "data": {
      "text/html": [
       "<div>\n",
       "<style scoped>\n",
       "    .dataframe tbody tr th:only-of-type {\n",
       "        vertical-align: middle;\n",
       "    }\n",
       "\n",
       "    .dataframe tbody tr th {\n",
       "        vertical-align: top;\n",
       "    }\n",
       "\n",
       "    .dataframe thead th {\n",
       "        text-align: right;\n",
       "    }\n",
       "</style>\n",
       "<table border=\"1\" class=\"dataframe\">\n",
       "  <thead>\n",
       "    <tr style=\"text-align: right;\">\n",
       "      <th></th>\n",
       "      <th>ContactId</th>\n",
       "      <th>Year</th>\n",
       "      <th>PledgeTotal</th>\n",
       "      <th>VolType</th>\n",
       "      <th>times</th>\n",
       "      <th>BirthYear</th>\n",
       "      <th>Gender</th>\n",
       "      <th>v</th>\n",
       "    </tr>\n",
       "  </thead>\n",
       "  <tbody>\n",
       "    <tr>\n",
       "      <td>0</td>\n",
       "      <td>874ddbce-11cd-e111-941f-00259073dc22</td>\n",
       "      <td>2007</td>\n",
       "      <td>52.00</td>\n",
       "      <td>0</td>\n",
       "      <td>0.0</td>\n",
       "      <td>1977.0</td>\n",
       "      <td>female</td>\n",
       "      <td>1</td>\n",
       "    </tr>\n",
       "    <tr>\n",
       "      <td>1</td>\n",
       "      <td>9a4ddbce-11cd-e111-941f-00259073dc22</td>\n",
       "      <td>2007</td>\n",
       "      <td>80.00</td>\n",
       "      <td>0</td>\n",
       "      <td>0.0</td>\n",
       "      <td>1968.0</td>\n",
       "      <td>female</td>\n",
       "      <td>1</td>\n",
       "    </tr>\n",
       "    <tr>\n",
       "      <td>2</td>\n",
       "      <td>5e4edbce-11cd-e111-941f-00259073dc22</td>\n",
       "      <td>2007</td>\n",
       "      <td>10000.00</td>\n",
       "      <td>0</td>\n",
       "      <td>0.0</td>\n",
       "      <td>1958.0</td>\n",
       "      <td>male</td>\n",
       "      <td>1</td>\n",
       "    </tr>\n",
       "    <tr>\n",
       "      <td>3</td>\n",
       "      <td>c150dbce-11cd-e111-941f-00259073dc22</td>\n",
       "      <td>2007</td>\n",
       "      <td>120.00</td>\n",
       "      <td>0</td>\n",
       "      <td>0.0</td>\n",
       "      <td>0.0</td>\n",
       "      <td>male</td>\n",
       "      <td>1</td>\n",
       "    </tr>\n",
       "    <tr>\n",
       "      <td>4</td>\n",
       "      <td>0b53dbce-11cd-e111-941f-00259073dc22</td>\n",
       "      <td>2007</td>\n",
       "      <td>500.16</td>\n",
       "      <td>0</td>\n",
       "      <td>0.0</td>\n",
       "      <td>1947.0</td>\n",
       "      <td>female</td>\n",
       "      <td>1</td>\n",
       "    </tr>\n",
       "  </tbody>\n",
       "</table>\n",
       "</div>"
      ],
      "text/plain": [
       "                              ContactId  Year  PledgeTotal VolType  times  \\\n",
       "0  874ddbce-11cd-e111-941f-00259073dc22  2007        52.00       0    0.0   \n",
       "1  9a4ddbce-11cd-e111-941f-00259073dc22  2007        80.00       0    0.0   \n",
       "2  5e4edbce-11cd-e111-941f-00259073dc22  2007     10000.00       0    0.0   \n",
       "3  c150dbce-11cd-e111-941f-00259073dc22  2007       120.00       0    0.0   \n",
       "4  0b53dbce-11cd-e111-941f-00259073dc22  2007       500.16       0    0.0   \n",
       "\n",
       "   BirthYear  Gender  v  \n",
       "0     1977.0  female  1  \n",
       "1     1968.0  female  1  \n",
       "2     1958.0    male  1  \n",
       "3        0.0    male  1  \n",
       "4     1947.0  female  1  "
      ]
     },
     "execution_count": 33,
     "metadata": {},
     "output_type": "execute_result"
    }
   ],
   "source": [
    "df_plot.head()"
   ]
  },
  {
   "cell_type": "code",
   "execution_count": 34,
   "metadata": {},
   "outputs": [
    {
     "data": {
      "image/png": "[encoded data removed]",
      "text/plain": [
       "<Figure size 720x432 with 1 Axes>"
      ]
     },
     "metadata": {},
     "output_type": "display_data"
    }
   ],
   "source": [
    "sns.set(style=\"whitegrid\", rc={'figure.figsize':(10, 6)})\n",
    "sns.barplot(x='v', y='PledgeTotal', ci=95, data=df_plot)\n",
    "plt.xlabel('0 = Volunteer, 1 = Non Volunteer')\n",
    "plt.ylabel('Average donation')\n",
    "plt.title('Average donation for volunteer vs. non volunteer')\n",
    "plt.show()"
   ]
  },
  {
   "cell_type": "markdown",
   "metadata": {},
   "source": [
    "The above graph clearly shows that the people who volunteer and make a donation, donate a significantly higher average amount.  However....  see below..."
   ]
  },
  {
   "cell_type": "code",
   "execution_count": 35,
   "metadata": {},
   "outputs": [
    {
     "data": {
      "image/png": "[encoded data removed]",
      "text/plain": [
       "<Figure size 720x432 with 1 Axes>"
      ]
     },
     "metadata": {},
     "output_type": "display_data"
    }
   ],
   "source": [
    "sns.set(style=\"whitegrid\", rc={'figure.figsize':(10, 6)})\n",
    "sns.barplot(x='v', y='PledgeTotal', ci=95, data=df_standard)\n",
    "plt.xlabel('0 = Volunteer, 1 = Non Volunteer')\n",
    "plt.ylabel('Average donation')\n",
    "plt.title('Average donation for volunteer vs. non volunteer (dropping Council or Board type)')\n",
    "plt.show()"
   ]
  },
  {
   "cell_type": "markdown",
   "metadata": {},
   "source": [
    "The above graph is very misleading because it does not account for the non volunteers who do not donate.  The above plot says that for all volunteers - whether they donate or not (and most don't) - their average donation amount is about $270 (blue bar).  For the non volunteers, the brown bar graph only considers people who donate - it does not contain people that don't volunteer and don't donate - and it should in order to compare with the blue bar."
   ]
  },
  {
   "cell_type": "code",
   "execution_count": 36,
   "metadata": {},
   "outputs": [
    {
     "data": {
      "image/png": "[encoded data removed]",
      "text/plain": [
       "<Figure size 720x432 with 1 Axes>"
      ]
     },
     "metadata": {},
     "output_type": "display_data"
    }
   ],
   "source": [
    "sns.set(style=\"whitegrid\", rc={'figure.figsize':(10, 6)})\n",
    "sns.barplot(x='v', y='PledgeTotal', ci=95, data=df_council)\n",
    "plt.xlabel('0 = Volunteer, 1 = Non Volunteer')\n",
    "plt.ylabel('Average donation')\n",
    "plt.title('Average donation for volunteer vs. non volunteer (dropping Standard type)')\n",
    "plt.show()"
   ]
  },
  {
   "cell_type": "markdown",
   "metadata": {},
   "source": [
    "The above graph shows the significantly greater mean donation amount between 'Council, committe, board' volunteers vs non volunteers."
   ]
  },
  {
   "cell_type": "code",
   "execution_count": 37,
   "metadata": {},
   "outputs": [
    {
     "data": {
      "text/html": [
       "<div>\n",
       "<style scoped>\n",
       "    .dataframe tbody tr th:only-of-type {\n",
       "        vertical-align: middle;\n",
       "    }\n",
       "\n",
       "    .dataframe tbody tr th {\n",
       "        vertical-align: top;\n",
       "    }\n",
       "\n",
       "    .dataframe thead th {\n",
       "        text-align: right;\n",
       "    }\n",
       "</style>\n",
       "<table border=\"1\" class=\"dataframe\">\n",
       "  <thead>\n",
       "    <tr style=\"text-align: right;\">\n",
       "      <th></th>\n",
       "      <th>ContactId</th>\n",
       "      <th>Year</th>\n",
       "      <th>PledgeTotal</th>\n",
       "      <th>VolType</th>\n",
       "      <th>VolunteerActivityCnt</th>\n",
       "      <th>BirthYear</th>\n",
       "      <th>Gender</th>\n",
       "    </tr>\n",
       "  </thead>\n",
       "  <tbody>\n",
       "    <tr>\n",
       "      <td>0</td>\n",
       "      <td>874ddbce-11cd-e111-941f-00259073dc22</td>\n",
       "      <td>2007</td>\n",
       "      <td>52.00</td>\n",
       "      <td>NaN</td>\n",
       "      <td>NaN</td>\n",
       "      <td>1977.0</td>\n",
       "      <td>female</td>\n",
       "    </tr>\n",
       "    <tr>\n",
       "      <td>1</td>\n",
       "      <td>9a4ddbce-11cd-e111-941f-00259073dc22</td>\n",
       "      <td>2007</td>\n",
       "      <td>80.00</td>\n",
       "      <td>NaN</td>\n",
       "      <td>NaN</td>\n",
       "      <td>1968.0</td>\n",
       "      <td>female</td>\n",
       "    </tr>\n",
       "    <tr>\n",
       "      <td>2</td>\n",
       "      <td>5e4edbce-11cd-e111-941f-00259073dc22</td>\n",
       "      <td>2007</td>\n",
       "      <td>10000.00</td>\n",
       "      <td>NaN</td>\n",
       "      <td>NaN</td>\n",
       "      <td>1958.0</td>\n",
       "      <td>male</td>\n",
       "    </tr>\n",
       "    <tr>\n",
       "      <td>3</td>\n",
       "      <td>c150dbce-11cd-e111-941f-00259073dc22</td>\n",
       "      <td>2007</td>\n",
       "      <td>120.00</td>\n",
       "      <td>NaN</td>\n",
       "      <td>NaN</td>\n",
       "      <td>NaN</td>\n",
       "      <td>male</td>\n",
       "    </tr>\n",
       "    <tr>\n",
       "      <td>4</td>\n",
       "      <td>0b53dbce-11cd-e111-941f-00259073dc22</td>\n",
       "      <td>2007</td>\n",
       "      <td>500.16</td>\n",
       "      <td>NaN</td>\n",
       "      <td>NaN</td>\n",
       "      <td>1947.0</td>\n",
       "      <td>female</td>\n",
       "    </tr>\n",
       "  </tbody>\n",
       "</table>\n",
       "</div>"
      ],
      "text/plain": [
       "                              ContactId  Year  PledgeTotal VolType  \\\n",
       "0  874ddbce-11cd-e111-941f-00259073dc22  2007        52.00     NaN   \n",
       "1  9a4ddbce-11cd-e111-941f-00259073dc22  2007        80.00     NaN   \n",
       "2  5e4edbce-11cd-e111-941f-00259073dc22  2007     10000.00     NaN   \n",
       "3  c150dbce-11cd-e111-941f-00259073dc22  2007       120.00     NaN   \n",
       "4  0b53dbce-11cd-e111-941f-00259073dc22  2007       500.16     NaN   \n",
       "\n",
       "   VolunteerActivityCnt  BirthYear  Gender  \n",
       "0                   NaN     1977.0  female  \n",
       "1                   NaN     1968.0  female  \n",
       "2                   NaN     1958.0    male  \n",
       "3                   NaN        NaN    male  \n",
       "4                   NaN     1947.0  female  "
      ]
     },
     "execution_count": 37,
     "metadata": {},
     "output_type": "execute_result"
    }
   ],
   "source": [
    "df_gender.head()"
   ]
  },
  {
   "cell_type": "code",
   "execution_count": 38,
   "metadata": {},
   "outputs": [
    {
     "data": {
      "image/png": "[encoded data removed]",
      "text/plain": [
       "<Figure size 720x432 with 1 Axes>"
      ]
     },
     "metadata": {},
     "output_type": "display_data"
    }
   ],
   "source": [
    "df_gender = df_gender.fillna(0)\n",
    "\n",
    "sns.set(style=\"whitegrid\", rc={'figure.figsize':(10, 6)})\n",
    "sns.barplot(x='Gender', y='PledgeTotal', ci=95, data=df_gender)\n",
    "plt.ylabel('Average donation')\n",
    "plt.title('Average donation by gender')\n",
    "plt.show()"
   ]
  },
  {
   "cell_type": "markdown",
   "metadata": {},
   "source": [
    "The above graph shows the mean of all donations separated by gender."
   ]
  },
  {
   "cell_type": "code",
   "execution_count": 39,
   "metadata": {},
   "outputs": [
    {
     "data": {
      "text/html": [
       "<div>\n",
       "<style scoped>\n",
       "    .dataframe tbody tr th:only-of-type {\n",
       "        vertical-align: middle;\n",
       "    }\n",
       "\n",
       "    .dataframe tbody tr th {\n",
       "        vertical-align: top;\n",
       "    }\n",
       "\n",
       "    .dataframe thead th {\n",
       "        text-align: right;\n",
       "    }\n",
       "</style>\n",
       "<table border=\"1\" class=\"dataframe\">\n",
       "  <thead>\n",
       "    <tr style=\"text-align: right;\">\n",
       "      <th></th>\n",
       "      <th>ContactId</th>\n",
       "      <th>Year</th>\n",
       "      <th>PledgeTotal</th>\n",
       "      <th>VolType</th>\n",
       "      <th>VolunteerActivityCnt</th>\n",
       "      <th>BirthYear</th>\n",
       "      <th>Gender</th>\n",
       "    </tr>\n",
       "  </thead>\n",
       "  <tbody>\n",
       "    <tr>\n",
       "      <td>0</td>\n",
       "      <td>874ddbce-11cd-e111-941f-00259073dc22</td>\n",
       "      <td>2007</td>\n",
       "      <td>52.00</td>\n",
       "      <td>0</td>\n",
       "      <td>0.0</td>\n",
       "      <td>1977.0</td>\n",
       "      <td>female</td>\n",
       "    </tr>\n",
       "    <tr>\n",
       "      <td>1</td>\n",
       "      <td>9a4ddbce-11cd-e111-941f-00259073dc22</td>\n",
       "      <td>2007</td>\n",
       "      <td>80.00</td>\n",
       "      <td>0</td>\n",
       "      <td>0.0</td>\n",
       "      <td>1968.0</td>\n",
       "      <td>female</td>\n",
       "    </tr>\n",
       "    <tr>\n",
       "      <td>2</td>\n",
       "      <td>5e4edbce-11cd-e111-941f-00259073dc22</td>\n",
       "      <td>2007</td>\n",
       "      <td>10000.00</td>\n",
       "      <td>0</td>\n",
       "      <td>0.0</td>\n",
       "      <td>1958.0</td>\n",
       "      <td>male</td>\n",
       "    </tr>\n",
       "    <tr>\n",
       "      <td>3</td>\n",
       "      <td>c150dbce-11cd-e111-941f-00259073dc22</td>\n",
       "      <td>2007</td>\n",
       "      <td>120.00</td>\n",
       "      <td>0</td>\n",
       "      <td>0.0</td>\n",
       "      <td>0.0</td>\n",
       "      <td>male</td>\n",
       "    </tr>\n",
       "    <tr>\n",
       "      <td>4</td>\n",
       "      <td>0b53dbce-11cd-e111-941f-00259073dc22</td>\n",
       "      <td>2007</td>\n",
       "      <td>500.16</td>\n",
       "      <td>0</td>\n",
       "      <td>0.0</td>\n",
       "      <td>1947.0</td>\n",
       "      <td>female</td>\n",
       "    </tr>\n",
       "  </tbody>\n",
       "</table>\n",
       "</div>"
      ],
      "text/plain": [
       "                              ContactId  Year  PledgeTotal VolType  \\\n",
       "0  874ddbce-11cd-e111-941f-00259073dc22  2007        52.00       0   \n",
       "1  9a4ddbce-11cd-e111-941f-00259073dc22  2007        80.00       0   \n",
       "2  5e4edbce-11cd-e111-941f-00259073dc22  2007     10000.00       0   \n",
       "3  c150dbce-11cd-e111-941f-00259073dc22  2007       120.00       0   \n",
       "4  0b53dbce-11cd-e111-941f-00259073dc22  2007       500.16       0   \n",
       "\n",
       "   VolunteerActivityCnt  BirthYear  Gender  \n",
       "0                   0.0     1977.0  female  \n",
       "1                   0.0     1968.0  female  \n",
       "2                   0.0     1958.0    male  \n",
       "3                   0.0        0.0    male  \n",
       "4                   0.0     1947.0  female  "
      ]
     },
     "execution_count": 39,
     "metadata": {},
     "output_type": "execute_result"
    }
   ],
   "source": [
    "df_gender.head()"
   ]
  },
  {
   "cell_type": "code",
   "execution_count": 40,
   "metadata": {},
   "outputs": [],
   "source": [
    "df_gender = df_gender.drop(df_gender[df_gender.VolType == 0].index).fillna(0)"
   ]
  },
  {
   "cell_type": "code",
   "execution_count": 41,
   "metadata": {},
   "outputs": [
    {
     "data": {
      "text/plain": [
       "(10071, 7)"
      ]
     },
     "execution_count": 41,
     "metadata": {},
     "output_type": "execute_result"
    }
   ],
   "source": [
    "df_gender.shape"
   ]
  },
  {
   "cell_type": "code",
   "execution_count": 42,
   "metadata": {},
   "outputs": [
    {
     "data": {
      "text/html": [
       "<div>\n",
       "<style scoped>\n",
       "    .dataframe tbody tr th:only-of-type {\n",
       "        vertical-align: middle;\n",
       "    }\n",
       "\n",
       "    .dataframe tbody tr th {\n",
       "        vertical-align: top;\n",
       "    }\n",
       "\n",
       "    .dataframe thead th {\n",
       "        text-align: right;\n",
       "    }\n",
       "</style>\n",
       "<table border=\"1\" class=\"dataframe\">\n",
       "  <thead>\n",
       "    <tr style=\"text-align: right;\">\n",
       "      <th></th>\n",
       "      <th>ContactId</th>\n",
       "      <th>Year</th>\n",
       "      <th>PledgeTotal</th>\n",
       "      <th>VolType</th>\n",
       "      <th>VolunteerActivityCnt</th>\n",
       "      <th>BirthYear</th>\n",
       "      <th>Gender</th>\n",
       "    </tr>\n",
       "  </thead>\n",
       "  <tbody>\n",
       "    <tr>\n",
       "      <td>375651</td>\n",
       "      <td>4c58f4ca-3545-e511-92f8-26d4160798d6</td>\n",
       "      <td>2015</td>\n",
       "      <td>0.0</td>\n",
       "      <td>Standard</td>\n",
       "      <td>1.0</td>\n",
       "      <td>0.0</td>\n",
       "      <td>0</td>\n",
       "    </tr>\n",
       "    <tr>\n",
       "      <td>375652</td>\n",
       "      <td>e34cb1d1-11cd-e111-941f-00259073dc22</td>\n",
       "      <td>2011</td>\n",
       "      <td>0.0</td>\n",
       "      <td>Standard</td>\n",
       "      <td>1.0</td>\n",
       "      <td>0.0</td>\n",
       "      <td>female</td>\n",
       "    </tr>\n",
       "    <tr>\n",
       "      <td>375653</td>\n",
       "      <td>29f9f78a-6681-e411-9b7f-26d4160798d6</td>\n",
       "      <td>2018</td>\n",
       "      <td>0.0</td>\n",
       "      <td>Standard</td>\n",
       "      <td>1.0</td>\n",
       "      <td>1955.0</td>\n",
       "      <td>female</td>\n",
       "    </tr>\n",
       "    <tr>\n",
       "      <td>375654</td>\n",
       "      <td>243015d2-11cd-e111-941f-00259073dc22</td>\n",
       "      <td>2015</td>\n",
       "      <td>0.0</td>\n",
       "      <td>Standard</td>\n",
       "      <td>1.0</td>\n",
       "      <td>0.0</td>\n",
       "      <td>female</td>\n",
       "    </tr>\n",
       "    <tr>\n",
       "      <td>375655</td>\n",
       "      <td>34aaf5d1-d3d1-e211-a0e0-4040184c1c1a</td>\n",
       "      <td>2012</td>\n",
       "      <td>0.0</td>\n",
       "      <td>Standard</td>\n",
       "      <td>1.0</td>\n",
       "      <td>0.0</td>\n",
       "      <td>female</td>\n",
       "    </tr>\n",
       "  </tbody>\n",
       "</table>\n",
       "</div>"
      ],
      "text/plain": [
       "                                   ContactId  Year  PledgeTotal   VolType  \\\n",
       "375651  4c58f4ca-3545-e511-92f8-26d4160798d6  2015          0.0  Standard   \n",
       "375652  e34cb1d1-11cd-e111-941f-00259073dc22  2011          0.0  Standard   \n",
       "375653  29f9f78a-6681-e411-9b7f-26d4160798d6  2018          0.0  Standard   \n",
       "375654  243015d2-11cd-e111-941f-00259073dc22  2015          0.0  Standard   \n",
       "375655  34aaf5d1-d3d1-e211-a0e0-4040184c1c1a  2012          0.0  Standard   \n",
       "\n",
       "        VolunteerActivityCnt  BirthYear  Gender  \n",
       "375651                   1.0        0.0       0  \n",
       "375652                   1.0        0.0  female  \n",
       "375653                   1.0     1955.0  female  \n",
       "375654                   1.0        0.0  female  \n",
       "375655                   1.0        0.0  female  "
      ]
     },
     "execution_count": 42,
     "metadata": {},
     "output_type": "execute_result"
    }
   ],
   "source": [
    "df_gender.head()"
   ]
  },
  {
   "cell_type": "code",
   "execution_count": 43,
   "metadata": {},
   "outputs": [
    {
     "data": {
      "image/png": "[encoded data removed]",
      "text/plain": [
       "<Figure size 720x432 with 1 Axes>"
      ]
     },
     "metadata": {},
     "output_type": "display_data"
    }
   ],
   "source": [
    "sns.set(style=\"whitegrid\", rc={'figure.figsize':(10, 6)})\n",
    "sns.barplot(x='VolType', y='PledgeTotal', ci=95, data=df_gender)\n",
    "plt.ylabel('Average donation')\n",
    "plt.title('Average donation by volunteer type')\n",
    "plt.show()"
   ]
  },
  {
   "cell_type": "markdown",
   "metadata": {},
   "source": [
    "As shown previously, the barplot above shows the difference in mean donation per volunteer type."
   ]
  },
  {
   "cell_type": "code",
   "execution_count": 44,
   "metadata": {},
   "outputs": [],
   "source": [
    "df_std_only = df_gender.drop(df_gender[df_gender.VolType == 'Council, Committe or Board'].index).fillna(0)"
   ]
  },
  {
   "cell_type": "code",
   "execution_count": 45,
   "metadata": {},
   "outputs": [
    {
     "data": {
      "image/png": "[encoded data removed]",
      "text/plain": [
       "<Figure size 720x432 with 1 Axes>"
      ]
     },
     "metadata": {},
     "output_type": "display_data"
    }
   ],
   "source": [
    "sns.set(style=\"whitegrid\", rc={'figure.figsize':(10, 6)})\n",
    "sns.barplot(x='Gender', y='PledgeTotal', ci=95, data=df_std_only)\n",
    "plt.ylabel('Average donation')\n",
    "plt.title('Average donation for Standard volunteer by gender')\n",
    "plt.show()"
   ]
  },
  {
   "cell_type": "markdown",
   "metadata": {},
   "source": [
    "The above graph shows that the male volunteers who donate, donate much more than the female volunteers who donate.  In other words, it might be wise to try to recruit male volunteers."
   ]
  },
  {
   "cell_type": "code",
   "execution_count": 46,
   "metadata": {},
   "outputs": [
    {
     "data": {
      "text/plain": [
       "ContactId               6532\n",
       "Year                      15\n",
       "PledgeTotal              892\n",
       "VolType                    2\n",
       "VolunteerActivityCnt      26\n",
       "BirthYear                 68\n",
       "Gender                     3\n",
       "dtype: int64"
      ]
     },
     "execution_count": 46,
     "metadata": {},
     "output_type": "execute_result"
    }
   ],
   "source": [
    "df_gender.nunique()"
   ]
  },
  {
   "cell_type": "code",
   "execution_count": 47,
   "metadata": {},
   "outputs": [
    {
     "data": {
      "text/plain": [
       "8d4eb7d0-11cd-e111-941f-00259073dc22    15\n",
       "2b41e8cf-11cd-e111-941f-00259073dc22    14\n",
       "483ae8cf-11cd-e111-941f-00259073dc22    14\n",
       "537f03d1-11cd-e111-941f-00259073dc22    13\n",
       "e342e8cf-11cd-e111-941f-00259073dc22    13\n",
       "                                        ..\n",
       "723cb1d1-11cd-e111-941f-00259073dc22     1\n",
       "95b05282-a231-e711-b10c-005056975e92     1\n",
       "6a58ed0a-c185-e211-a0e0-4040184c1c1a     1\n",
       "813f15d2-11cd-e111-941f-00259073dc22     1\n",
       "05825faf-f054-e611-b76d-26d4160798d6     1\n",
       "Name: ContactId, Length: 6532, dtype: int64"
      ]
     },
     "execution_count": 47,
     "metadata": {},
     "output_type": "execute_result"
    }
   ],
   "source": [
    "df_gender.ContactId.value_counts()"
   ]
  },
  {
   "cell_type": "code",
   "execution_count": 48,
   "metadata": {},
   "outputs": [
    {
     "data": {
      "text/html": [
       "<div>\n",
       "<style scoped>\n",
       "    .dataframe tbody tr th:only-of-type {\n",
       "        vertical-align: middle;\n",
       "    }\n",
       "\n",
       "    .dataframe tbody tr th {\n",
       "        vertical-align: top;\n",
       "    }\n",
       "\n",
       "    .dataframe thead th {\n",
       "        text-align: right;\n",
       "    }\n",
       "</style>\n",
       "<table border=\"1\" class=\"dataframe\">\n",
       "  <thead>\n",
       "    <tr style=\"text-align: right;\">\n",
       "      <th></th>\n",
       "      <th>ContactId</th>\n",
       "      <th>Year</th>\n",
       "      <th>PledgeTotal</th>\n",
       "      <th>VolType</th>\n",
       "      <th>VolunteerActivityCnt</th>\n",
       "      <th>BirthYear</th>\n",
       "      <th>Gender</th>\n",
       "    </tr>\n",
       "  </thead>\n",
       "  <tbody>\n",
       "    <tr>\n",
       "      <td>375735</td>\n",
       "      <td>4e52b7d0-11cd-e111-941f-00259073dc22</td>\n",
       "      <td>2011</td>\n",
       "      <td>0.0</td>\n",
       "      <td>Standard</td>\n",
       "      <td>1.0</td>\n",
       "      <td>0.0</td>\n",
       "      <td>female</td>\n",
       "    </tr>\n",
       "    <tr>\n",
       "      <td>385222</td>\n",
       "      <td>865eb7d0-11cd-e111-941f-00259073dc22</td>\n",
       "      <td>2019</td>\n",
       "      <td>252.0</td>\n",
       "      <td>Council, Committe or Board</td>\n",
       "      <td>4.0</td>\n",
       "      <td>1973.0</td>\n",
       "      <td>female</td>\n",
       "    </tr>\n",
       "    <tr>\n",
       "      <td>376961</td>\n",
       "      <td>3752b7d0-11cd-e111-941f-00259073dc22</td>\n",
       "      <td>2017</td>\n",
       "      <td>780.0</td>\n",
       "      <td>Standard</td>\n",
       "      <td>1.0</td>\n",
       "      <td>1980.0</td>\n",
       "      <td>male</td>\n",
       "    </tr>\n",
       "    <tr>\n",
       "      <td>382596</td>\n",
       "      <td>a32449c8-8b63-e511-9bbb-26d4160798d6</td>\n",
       "      <td>2015</td>\n",
       "      <td>0.0</td>\n",
       "      <td>Standard</td>\n",
       "      <td>1.0</td>\n",
       "      <td>0.0</td>\n",
       "      <td>male</td>\n",
       "    </tr>\n",
       "    <tr>\n",
       "      <td>384198</td>\n",
       "      <td>ef3c0cce-11cd-e111-941f-00259073dc22</td>\n",
       "      <td>2017</td>\n",
       "      <td>1000.0</td>\n",
       "      <td>Council, Committe or Board</td>\n",
       "      <td>2.0</td>\n",
       "      <td>1940.0</td>\n",
       "      <td>female</td>\n",
       "    </tr>\n",
       "    <tr>\n",
       "      <td>382968</td>\n",
       "      <td>46a5d08d-e86b-e311-a454-4040184c1c1a</td>\n",
       "      <td>2013</td>\n",
       "      <td>0.0</td>\n",
       "      <td>Standard</td>\n",
       "      <td>1.0</td>\n",
       "      <td>0.0</td>\n",
       "      <td>male</td>\n",
       "    </tr>\n",
       "    <tr>\n",
       "      <td>385181</td>\n",
       "      <td>71c955d0-11cd-e111-941f-00259073dc22</td>\n",
       "      <td>2015</td>\n",
       "      <td>12000.0</td>\n",
       "      <td>Council, Committe or Board</td>\n",
       "      <td>3.0</td>\n",
       "      <td>1973.0</td>\n",
       "      <td>male</td>\n",
       "    </tr>\n",
       "    <tr>\n",
       "      <td>379521</td>\n",
       "      <td>8252dbce-11cd-e111-941f-00259073dc22</td>\n",
       "      <td>2012</td>\n",
       "      <td>50.0</td>\n",
       "      <td>Standard</td>\n",
       "      <td>1.0</td>\n",
       "      <td>0.0</td>\n",
       "      <td>male</td>\n",
       "    </tr>\n",
       "    <tr>\n",
       "      <td>380107</td>\n",
       "      <td>be33fbc1-eb9a-e211-a0e0-4040184c1c1a</td>\n",
       "      <td>2013</td>\n",
       "      <td>0.0</td>\n",
       "      <td>Standard</td>\n",
       "      <td>1.0</td>\n",
       "      <td>0.0</td>\n",
       "      <td>male</td>\n",
       "    </tr>\n",
       "    <tr>\n",
       "      <td>385120</td>\n",
       "      <td>51ad62d1-11cd-e111-941f-00259073dc22</td>\n",
       "      <td>2015</td>\n",
       "      <td>100.0</td>\n",
       "      <td>Council, Committe or Board</td>\n",
       "      <td>3.0</td>\n",
       "      <td>0.0</td>\n",
       "      <td>male</td>\n",
       "    </tr>\n",
       "  </tbody>\n",
       "</table>\n",
       "</div>"
      ],
      "text/plain": [
       "                                   ContactId  Year  PledgeTotal  \\\n",
       "375735  4e52b7d0-11cd-e111-941f-00259073dc22  2011          0.0   \n",
       "385222  865eb7d0-11cd-e111-941f-00259073dc22  2019        252.0   \n",
       "376961  3752b7d0-11cd-e111-941f-00259073dc22  2017        780.0   \n",
       "382596  a32449c8-8b63-e511-9bbb-26d4160798d6  2015          0.0   \n",
       "384198  ef3c0cce-11cd-e111-941f-00259073dc22  2017       1000.0   \n",
       "382968  46a5d08d-e86b-e311-a454-4040184c1c1a  2013          0.0   \n",
       "385181  71c955d0-11cd-e111-941f-00259073dc22  2015      12000.0   \n",
       "379521  8252dbce-11cd-e111-941f-00259073dc22  2012         50.0   \n",
       "380107  be33fbc1-eb9a-e211-a0e0-4040184c1c1a  2013          0.0   \n",
       "385120  51ad62d1-11cd-e111-941f-00259073dc22  2015        100.0   \n",
       "\n",
       "                           VolType  VolunteerActivityCnt  BirthYear  Gender  \n",
       "375735                    Standard                   1.0        0.0  female  \n",
       "385222  Council, Committe or Board                   4.0     1973.0  female  \n",
       "376961                    Standard                   1.0     1980.0    male  \n",
       "382596                    Standard                   1.0        0.0    male  \n",
       "384198  Council, Committe or Board                   2.0     1940.0  female  \n",
       "382968                    Standard                   1.0        0.0    male  \n",
       "385181  Council, Committe or Board                   3.0     1973.0    male  \n",
       "379521                    Standard                   1.0        0.0    male  \n",
       "380107                    Standard                   1.0        0.0    male  \n",
       "385120  Council, Committe or Board                   3.0        0.0    male  "
      ]
     },
     "execution_count": 48,
     "metadata": {},
     "output_type": "execute_result"
    }
   ],
   "source": [
    "df_gender.sample(10)"
   ]
  },
  {
   "cell_type": "code",
   "execution_count": 49,
   "metadata": {},
   "outputs": [
    {
     "data": {
      "image/png": "[encoded data removed]",
      "text/plain": [
       "<Figure size 1008x576 with 1 Axes>"
      ]
     },
     "metadata": {},
     "output_type": "display_data"
    }
   ],
   "source": [
    "sns.set(style=\"whitegrid\", rc={'figure.figsize':(14, 8)})\n",
    "sns.barplot(x='VolunteerActivityCnt', y='PledgeTotal', ci=80, data=df_std_only)\n",
    "plt.ylabel('Average donation')\n",
    "plt.title('Average donation for Standard volunteer by volunteer count')\n",
    "plt.show()"
   ]
  },
  {
   "cell_type": "markdown",
   "metadata": {},
   "source": [
    "The above barplot shows the average donation for Standard type volunteers by the number of volunteer activities they participated in.  (with 80% confidence - vertical black line)\n",
    "\n",
    "There does not seem to be a general trend (increasing or decreasing) based on the number of times someone volunteered.  However...  see below...."
   ]
  },
  {
   "cell_type": "markdown",
   "metadata": {},
   "source": [
    "#### Next, look at donations for Standard type volunteers for 1 time voluneers vs. more than 1:"
   ]
  },
  {
   "cell_type": "code",
   "execution_count": 50,
   "metadata": {},
   "outputs": [
    {
     "data": {
      "text/plain": [
       "Text(0.5, 1.0, 'Average donation based on number of Standard volunteer activites')"
      ]
     },
     "execution_count": 50,
     "metadata": {},
     "output_type": "execute_result"
    },
    {
     "data": {
      "image/png": "[encoded data removed]",
      "text/plain": [
       "<Figure size 864x432 with 1 Axes>"
      ]
     },
     "metadata": {},
     "output_type": "display_data"
    }
   ],
   "source": [
    "once = df_std_only.PledgeTotal.loc[df_std_only.VolunteerActivityCnt == 1].mean()\n",
    "more_than_one = df_std_only.PledgeTotal.loc[df_std_only.VolunteerActivityCnt > 1].mean()\n",
    "\n",
    "actions = [once, more_than_one]\n",
    "index = ['Once', 'More than one']\n",
    "df = pd.DataFrame({'actions': actions}, index=index)\n",
    "ax = df.plot.bar(rot=0, figsize=(12, 6))\n",
    "ax.set_axisbelow(True)\n",
    "ax.minorticks_on()\n",
    "ax.grid(which='major', linestyle='-', linewidth='0.5', color='red')\n",
    "plt.ylabel('Occurrences')\n",
    "plt.title(\"Average donation based on number of Standard volunteer activites\")"
   ]
  },
  {
   "cell_type": "code",
   "execution_count": 51,
   "metadata": {},
   "outputs": [
    {
     "name": "stdout",
     "output_type": "stream",
     "text": [
      "7613\n"
     ]
    }
   ],
   "source": [
    "print(df_std_only.PledgeTotal.loc[df_std_only.VolunteerActivityCnt == 1].count())"
   ]
  },
  {
   "cell_type": "code",
   "execution_count": 52,
   "metadata": {},
   "outputs": [
    {
     "name": "stdout",
     "output_type": "stream",
     "text": [
      "826\n"
     ]
    }
   ],
   "source": [
    "print(df_std_only.PledgeTotal.loc[df_std_only.VolunteerActivityCnt > 1].count())"
   ]
  },
  {
   "cell_type": "markdown",
   "metadata": {},
   "source": [
    "From the 2 cells above, notice that most of the volunteers volunteer only 1 time.  Therefore, it might be wise to encourage people to volunteer more than once - because those that do donate more."
   ]
  },
  {
   "cell_type": "code",
   "execution_count": 53,
   "metadata": {},
   "outputs": [],
   "source": [
    "df_std_only['number'] = pd.Series(np.where(df_std_only.VolunteerActivityCnt.values == 1, 'once', 'more'),\n",
    "          df_std_only.index)"
   ]
  },
  {
   "cell_type": "code",
   "execution_count": 54,
   "metadata": {},
   "outputs": [
    {
     "data": {
      "text/html": [
       "<div>\n",
       "<style scoped>\n",
       "    .dataframe tbody tr th:only-of-type {\n",
       "        vertical-align: middle;\n",
       "    }\n",
       "\n",
       "    .dataframe tbody tr th {\n",
       "        vertical-align: top;\n",
       "    }\n",
       "\n",
       "    .dataframe thead th {\n",
       "        text-align: right;\n",
       "    }\n",
       "</style>\n",
       "<table border=\"1\" class=\"dataframe\">\n",
       "  <thead>\n",
       "    <tr style=\"text-align: right;\">\n",
       "      <th></th>\n",
       "      <th>ContactId</th>\n",
       "      <th>Year</th>\n",
       "      <th>PledgeTotal</th>\n",
       "      <th>VolType</th>\n",
       "      <th>VolunteerActivityCnt</th>\n",
       "      <th>BirthYear</th>\n",
       "      <th>Gender</th>\n",
       "      <th>number</th>\n",
       "    </tr>\n",
       "  </thead>\n",
       "  <tbody>\n",
       "    <tr>\n",
       "      <td>375651</td>\n",
       "      <td>4c58f4ca-3545-e511-92f8-26d4160798d6</td>\n",
       "      <td>2015</td>\n",
       "      <td>0.0</td>\n",
       "      <td>Standard</td>\n",
       "      <td>1.0</td>\n",
       "      <td>0.0</td>\n",
       "      <td>0</td>\n",
       "      <td>once</td>\n",
       "    </tr>\n",
       "    <tr>\n",
       "      <td>375652</td>\n",
       "      <td>e34cb1d1-11cd-e111-941f-00259073dc22</td>\n",
       "      <td>2011</td>\n",
       "      <td>0.0</td>\n",
       "      <td>Standard</td>\n",
       "      <td>1.0</td>\n",
       "      <td>0.0</td>\n",
       "      <td>female</td>\n",
       "      <td>once</td>\n",
       "    </tr>\n",
       "    <tr>\n",
       "      <td>375653</td>\n",
       "      <td>29f9f78a-6681-e411-9b7f-26d4160798d6</td>\n",
       "      <td>2018</td>\n",
       "      <td>0.0</td>\n",
       "      <td>Standard</td>\n",
       "      <td>1.0</td>\n",
       "      <td>1955.0</td>\n",
       "      <td>female</td>\n",
       "      <td>once</td>\n",
       "    </tr>\n",
       "    <tr>\n",
       "      <td>375654</td>\n",
       "      <td>243015d2-11cd-e111-941f-00259073dc22</td>\n",
       "      <td>2015</td>\n",
       "      <td>0.0</td>\n",
       "      <td>Standard</td>\n",
       "      <td>1.0</td>\n",
       "      <td>0.0</td>\n",
       "      <td>female</td>\n",
       "      <td>once</td>\n",
       "    </tr>\n",
       "    <tr>\n",
       "      <td>375655</td>\n",
       "      <td>34aaf5d1-d3d1-e211-a0e0-4040184c1c1a</td>\n",
       "      <td>2012</td>\n",
       "      <td>0.0</td>\n",
       "      <td>Standard</td>\n",
       "      <td>1.0</td>\n",
       "      <td>0.0</td>\n",
       "      <td>female</td>\n",
       "      <td>once</td>\n",
       "    </tr>\n",
       "  </tbody>\n",
       "</table>\n",
       "</div>"
      ],
      "text/plain": [
       "                                   ContactId  Year  PledgeTotal   VolType  \\\n",
       "375651  4c58f4ca-3545-e511-92f8-26d4160798d6  2015          0.0  Standard   \n",
       "375652  e34cb1d1-11cd-e111-941f-00259073dc22  2011          0.0  Standard   \n",
       "375653  29f9f78a-6681-e411-9b7f-26d4160798d6  2018          0.0  Standard   \n",
       "375654  243015d2-11cd-e111-941f-00259073dc22  2015          0.0  Standard   \n",
       "375655  34aaf5d1-d3d1-e211-a0e0-4040184c1c1a  2012          0.0  Standard   \n",
       "\n",
       "        VolunteerActivityCnt  BirthYear  Gender number  \n",
       "375651                   1.0        0.0       0   once  \n",
       "375652                   1.0        0.0  female   once  \n",
       "375653                   1.0     1955.0  female   once  \n",
       "375654                   1.0        0.0  female   once  \n",
       "375655                   1.0        0.0  female   once  "
      ]
     },
     "execution_count": 54,
     "metadata": {},
     "output_type": "execute_result"
    }
   ],
   "source": [
    "df_std_only.head()"
   ]
  },
  {
   "cell_type": "markdown",
   "metadata": {},
   "source": [
    "Using barplot with 95% confidence interval (below) :"
   ]
  },
  {
   "cell_type": "code",
   "execution_count": 55,
   "metadata": {},
   "outputs": [
    {
     "data": {
      "image/png": "[encoded data removed]",
      "text/plain": [
       "<Figure size 720x432 with 1 Axes>"
      ]
     },
     "metadata": {},
     "output_type": "display_data"
    }
   ],
   "source": [
    "sns.set(style=\"whitegrid\", rc={'figure.figsize':(10, 6)})\n",
    "sns.barplot(x='number', y='PledgeTotal', ci=95, data=df_std_only)\n",
    "plt.ylabel('Average donation')\n",
    "plt.title('Average donation based on number of Standard volunteer activites')\n",
    "plt.show()"
   ]
  },
  {
   "cell_type": "markdown",
   "metadata": {},
   "source": [
    "Once again, the number of Standard volunteer who volunteered only 1 time = **7613**; compared to only **826** volunteers who volunteered more than 1 time.  \n",
    "\n",
    "Those who volunteered more than once, donate much more on average."
   ]
  },
  {
   "cell_type": "markdown",
   "metadata": {},
   "source": [
    "#### Next, looking at Standard volunteers who made a donation:"
   ]
  },
  {
   "cell_type": "code",
   "execution_count": 56,
   "metadata": {},
   "outputs": [
    {
     "data": {
      "text/html": [
       "<div>\n",
       "<style scoped>\n",
       "    .dataframe tbody tr th:only-of-type {\n",
       "        vertical-align: middle;\n",
       "    }\n",
       "\n",
       "    .dataframe tbody tr th {\n",
       "        vertical-align: top;\n",
       "    }\n",
       "\n",
       "    .dataframe thead th {\n",
       "        text-align: right;\n",
       "    }\n",
       "</style>\n",
       "<table border=\"1\" class=\"dataframe\">\n",
       "  <thead>\n",
       "    <tr style=\"text-align: right;\">\n",
       "      <th></th>\n",
       "      <th>ContactId</th>\n",
       "      <th>Year</th>\n",
       "      <th>PledgeTotal</th>\n",
       "      <th>VolType</th>\n",
       "      <th>VolunteerActivityCnt</th>\n",
       "      <th>BirthYear</th>\n",
       "      <th>Gender</th>\n",
       "      <th>number</th>\n",
       "    </tr>\n",
       "  </thead>\n",
       "  <tbody>\n",
       "    <tr>\n",
       "      <td>384451</td>\n",
       "      <td>9e16851c-53e7-e311-93ca-26d4160798d6</td>\n",
       "      <td>2015</td>\n",
       "      <td>0.0</td>\n",
       "      <td>Standard</td>\n",
       "      <td>2.0</td>\n",
       "      <td>1970.0</td>\n",
       "      <td>0</td>\n",
       "      <td>more</td>\n",
       "    </tr>\n",
       "    <tr>\n",
       "      <td>378900</td>\n",
       "      <td>de9dc65e-06e4-e211-a0e0-4040184c1c1a</td>\n",
       "      <td>2013</td>\n",
       "      <td>0.0</td>\n",
       "      <td>Standard</td>\n",
       "      <td>1.0</td>\n",
       "      <td>0.0</td>\n",
       "      <td>female</td>\n",
       "      <td>once</td>\n",
       "    </tr>\n",
       "    <tr>\n",
       "      <td>376374</td>\n",
       "      <td>cb5ab1d1-11cd-e111-941f-00259073dc22</td>\n",
       "      <td>2011</td>\n",
       "      <td>0.0</td>\n",
       "      <td>Standard</td>\n",
       "      <td>1.0</td>\n",
       "      <td>0.0</td>\n",
       "      <td>female</td>\n",
       "      <td>once</td>\n",
       "    </tr>\n",
       "    <tr>\n",
       "      <td>383234</td>\n",
       "      <td>ab785bb6-d689-e811-80ef-0050569e2a4f</td>\n",
       "      <td>2012</td>\n",
       "      <td>0.0</td>\n",
       "      <td>Standard</td>\n",
       "      <td>1.0</td>\n",
       "      <td>0.0</td>\n",
       "      <td>female</td>\n",
       "      <td>once</td>\n",
       "    </tr>\n",
       "    <tr>\n",
       "      <td>381545</td>\n",
       "      <td>a1562cf4-c1e8-e211-a0e0-4040184c1c1a</td>\n",
       "      <td>2013</td>\n",
       "      <td>130.0</td>\n",
       "      <td>Standard</td>\n",
       "      <td>1.0</td>\n",
       "      <td>0.0</td>\n",
       "      <td>female</td>\n",
       "      <td>once</td>\n",
       "    </tr>\n",
       "    <tr>\n",
       "      <td>383138</td>\n",
       "      <td>ae4cb1d1-11cd-e111-941f-00259073dc22</td>\n",
       "      <td>2011</td>\n",
       "      <td>0.0</td>\n",
       "      <td>Standard</td>\n",
       "      <td>1.0</td>\n",
       "      <td>0.0</td>\n",
       "      <td>female</td>\n",
       "      <td>once</td>\n",
       "    </tr>\n",
       "    <tr>\n",
       "      <td>385101</td>\n",
       "      <td>4f7b81ca-c7dd-e211-a0e0-4040184c1c1a</td>\n",
       "      <td>2011</td>\n",
       "      <td>0.0</td>\n",
       "      <td>Standard</td>\n",
       "      <td>3.0</td>\n",
       "      <td>0.0</td>\n",
       "      <td>female</td>\n",
       "      <td>more</td>\n",
       "    </tr>\n",
       "    <tr>\n",
       "      <td>378529</td>\n",
       "      <td>9a449bbe-139e-e211-a0e0-4040184c1c1a</td>\n",
       "      <td>2013</td>\n",
       "      <td>0.0</td>\n",
       "      <td>Standard</td>\n",
       "      <td>1.0</td>\n",
       "      <td>0.0</td>\n",
       "      <td>female</td>\n",
       "      <td>once</td>\n",
       "    </tr>\n",
       "    <tr>\n",
       "      <td>378572</td>\n",
       "      <td>fa7c03d1-11cd-e111-941f-00259073dc22</td>\n",
       "      <td>2013</td>\n",
       "      <td>0.0</td>\n",
       "      <td>Standard</td>\n",
       "      <td>1.0</td>\n",
       "      <td>0.0</td>\n",
       "      <td>female</td>\n",
       "      <td>once</td>\n",
       "    </tr>\n",
       "    <tr>\n",
       "      <td>376558</td>\n",
       "      <td>339a0aa9-1d07-e611-828d-26d4160798d6</td>\n",
       "      <td>2016</td>\n",
       "      <td>0.0</td>\n",
       "      <td>Standard</td>\n",
       "      <td>1.0</td>\n",
       "      <td>0.0</td>\n",
       "      <td>0</td>\n",
       "      <td>once</td>\n",
       "    </tr>\n",
       "  </tbody>\n",
       "</table>\n",
       "</div>"
      ],
      "text/plain": [
       "                                   ContactId  Year  PledgeTotal   VolType  \\\n",
       "384451  9e16851c-53e7-e311-93ca-26d4160798d6  2015          0.0  Standard   \n",
       "378900  de9dc65e-06e4-e211-a0e0-4040184c1c1a  2013          0.0  Standard   \n",
       "376374  cb5ab1d1-11cd-e111-941f-00259073dc22  2011          0.0  Standard   \n",
       "383234  ab785bb6-d689-e811-80ef-0050569e2a4f  2012          0.0  Standard   \n",
       "381545  a1562cf4-c1e8-e211-a0e0-4040184c1c1a  2013        130.0  Standard   \n",
       "383138  ae4cb1d1-11cd-e111-941f-00259073dc22  2011          0.0  Standard   \n",
       "385101  4f7b81ca-c7dd-e211-a0e0-4040184c1c1a  2011          0.0  Standard   \n",
       "378529  9a449bbe-139e-e211-a0e0-4040184c1c1a  2013          0.0  Standard   \n",
       "378572  fa7c03d1-11cd-e111-941f-00259073dc22  2013          0.0  Standard   \n",
       "376558  339a0aa9-1d07-e611-828d-26d4160798d6  2016          0.0  Standard   \n",
       "\n",
       "        VolunteerActivityCnt  BirthYear  Gender number  \n",
       "384451                   2.0     1970.0       0   more  \n",
       "378900                   1.0        0.0  female   once  \n",
       "376374                   1.0        0.0  female   once  \n",
       "383234                   1.0        0.0  female   once  \n",
       "381545                   1.0        0.0  female   once  \n",
       "383138                   1.0        0.0  female   once  \n",
       "385101                   3.0        0.0  female   more  \n",
       "378529                   1.0        0.0  female   once  \n",
       "378572                   1.0        0.0  female   once  \n",
       "376558                   1.0        0.0       0   once  "
      ]
     },
     "execution_count": 56,
     "metadata": {},
     "output_type": "execute_result"
    }
   ],
   "source": [
    "df_std_only.sample(10)"
   ]
  },
  {
   "cell_type": "code",
   "execution_count": 57,
   "metadata": {},
   "outputs": [],
   "source": [
    "# remove the standard volunteers who do not donate (pledge) anything.\n",
    "df_std_only_p = df_std_only.drop(df_std_only[df_std_only.PledgeTotal == 0].index)"
   ]
  },
  {
   "cell_type": "code",
   "execution_count": 58,
   "metadata": {},
   "outputs": [
    {
     "data": {
      "text/plain": [
       "(3213, 8)"
      ]
     },
     "execution_count": 58,
     "metadata": {},
     "output_type": "execute_result"
    }
   ],
   "source": [
    "df_std_only_p.shape"
   ]
  },
  {
   "cell_type": "code",
   "execution_count": 59,
   "metadata": {},
   "outputs": [
    {
     "data": {
      "text/html": [
       "<div>\n",
       "<style scoped>\n",
       "    .dataframe tbody tr th:only-of-type {\n",
       "        vertical-align: middle;\n",
       "    }\n",
       "\n",
       "    .dataframe tbody tr th {\n",
       "        vertical-align: top;\n",
       "    }\n",
       "\n",
       "    .dataframe thead th {\n",
       "        text-align: right;\n",
       "    }\n",
       "</style>\n",
       "<table border=\"1\" class=\"dataframe\">\n",
       "  <thead>\n",
       "    <tr style=\"text-align: right;\">\n",
       "      <th></th>\n",
       "      <th>ContactId</th>\n",
       "      <th>Year</th>\n",
       "      <th>PledgeTotal</th>\n",
       "      <th>VolType</th>\n",
       "      <th>VolunteerActivityCnt</th>\n",
       "      <th>BirthYear</th>\n",
       "      <th>Gender</th>\n",
       "      <th>number</th>\n",
       "    </tr>\n",
       "  </thead>\n",
       "  <tbody>\n",
       "    <tr>\n",
       "      <td>375806</td>\n",
       "      <td>49cf82d3-a409-e311-95aa-4040184c1c1a</td>\n",
       "      <td>2018</td>\n",
       "      <td>11500.0</td>\n",
       "      <td>Standard</td>\n",
       "      <td>1.0</td>\n",
       "      <td>1964.0</td>\n",
       "      <td>male</td>\n",
       "      <td>once</td>\n",
       "    </tr>\n",
       "    <tr>\n",
       "      <td>376124</td>\n",
       "      <td>508d9fcb-7cfc-e811-8122-0050569e2a4f</td>\n",
       "      <td>2019</td>\n",
       "      <td>260.0</td>\n",
       "      <td>Standard</td>\n",
       "      <td>1.0</td>\n",
       "      <td>1996.0</td>\n",
       "      <td>female</td>\n",
       "      <td>once</td>\n",
       "    </tr>\n",
       "    <tr>\n",
       "      <td>376125</td>\n",
       "      <td>c059dbce-11cd-e111-941f-00259073dc22</td>\n",
       "      <td>2019</td>\n",
       "      <td>2500.0</td>\n",
       "      <td>Standard</td>\n",
       "      <td>1.0</td>\n",
       "      <td>0.0</td>\n",
       "      <td>female</td>\n",
       "      <td>once</td>\n",
       "    </tr>\n",
       "    <tr>\n",
       "      <td>376860</td>\n",
       "      <td>306b218c-01b2-e811-80fb-0050569e2a4f</td>\n",
       "      <td>2019</td>\n",
       "      <td>400.0</td>\n",
       "      <td>Standard</td>\n",
       "      <td>1.0</td>\n",
       "      <td>0.0</td>\n",
       "      <td>male</td>\n",
       "      <td>once</td>\n",
       "    </tr>\n",
       "    <tr>\n",
       "      <td>376861</td>\n",
       "      <td>89bb62d1-11cd-e111-941f-00259073dc22</td>\n",
       "      <td>2018</td>\n",
       "      <td>130.0</td>\n",
       "      <td>Standard</td>\n",
       "      <td>1.0</td>\n",
       "      <td>1977.0</td>\n",
       "      <td>female</td>\n",
       "      <td>once</td>\n",
       "    </tr>\n",
       "  </tbody>\n",
       "</table>\n",
       "</div>"
      ],
      "text/plain": [
       "                                   ContactId  Year  PledgeTotal   VolType  \\\n",
       "375806  49cf82d3-a409-e311-95aa-4040184c1c1a  2018      11500.0  Standard   \n",
       "376124  508d9fcb-7cfc-e811-8122-0050569e2a4f  2019        260.0  Standard   \n",
       "376125  c059dbce-11cd-e111-941f-00259073dc22  2019       2500.0  Standard   \n",
       "376860  306b218c-01b2-e811-80fb-0050569e2a4f  2019        400.0  Standard   \n",
       "376861  89bb62d1-11cd-e111-941f-00259073dc22  2018        130.0  Standard   \n",
       "\n",
       "        VolunteerActivityCnt  BirthYear  Gender number  \n",
       "375806                   1.0     1964.0    male   once  \n",
       "376124                   1.0     1996.0  female   once  \n",
       "376125                   1.0        0.0  female   once  \n",
       "376860                   1.0        0.0    male   once  \n",
       "376861                   1.0     1977.0  female   once  "
      ]
     },
     "execution_count": 59,
     "metadata": {},
     "output_type": "execute_result"
    }
   ],
   "source": [
    "df_std_only_p.head()"
   ]
  },
  {
   "cell_type": "code",
   "execution_count": 60,
   "metadata": {},
   "outputs": [
    {
     "data": {
      "text/plain": [
       "716.5424836601309"
      ]
     },
     "execution_count": 60,
     "metadata": {},
     "output_type": "execute_result"
    }
   ],
   "source": [
    "df_std_only_p.PledgeTotal.mean()"
   ]
  },
  {
   "cell_type": "code",
   "execution_count": 61,
   "metadata": {},
   "outputs": [
    {
     "data": {
      "text/plain": [
       "260.0"
      ]
     },
     "execution_count": 61,
     "metadata": {},
     "output_type": "execute_result"
    }
   ],
   "source": [
    "df_std_only_p.PledgeTotal.median()"
   ]
  },
  {
   "cell_type": "markdown",
   "metadata": {},
   "source": [
    "From the cell above, volunteers who made a donation donate much more, on average, than those donators who do not volunteer at all.  (**717 USD vs. ~260 USD**)"
   ]
  },
  {
   "cell_type": "markdown",
   "metadata": {},
   "source": [
    "#### Next, look to see if age has an impact on the amount of donation:"
   ]
  },
  {
   "cell_type": "code",
   "execution_count": 62,
   "metadata": {},
   "outputs": [],
   "source": [
    "df_copy = df_copy.fillna(0)\n",
    "\n",
    "# remove the donator or volunteer who did not give a Birth Year.\n",
    "df_age = df_copy.drop(df_copy[df_copy.BirthYear == 0].index)\n",
    "\n",
    "df_age['age'] = 2019 - df_age.BirthYear\n",
    "\n",
    "df_age['age_bins'] = pd.cut(x=df_age['age'], bins=[20, 29, 39, 49, 59, 69, 79, 89, 109])"
   ]
  },
  {
   "cell_type": "code",
   "execution_count": 63,
   "metadata": {},
   "outputs": [
    {
     "data": {
      "text/html": [
       "<div>\n",
       "<style scoped>\n",
       "    .dataframe tbody tr th:only-of-type {\n",
       "        vertical-align: middle;\n",
       "    }\n",
       "\n",
       "    .dataframe tbody tr th {\n",
       "        vertical-align: top;\n",
       "    }\n",
       "\n",
       "    .dataframe thead th {\n",
       "        text-align: right;\n",
       "    }\n",
       "</style>\n",
       "<table border=\"1\" class=\"dataframe\">\n",
       "  <thead>\n",
       "    <tr style=\"text-align: right;\">\n",
       "      <th></th>\n",
       "      <th>ContactId</th>\n",
       "      <th>Year</th>\n",
       "      <th>PledgeTotal</th>\n",
       "      <th>VolType</th>\n",
       "      <th>VolunteerActivityCnt</th>\n",
       "      <th>BirthYear</th>\n",
       "      <th>Gender</th>\n",
       "      <th>age</th>\n",
       "      <th>age_bins</th>\n",
       "    </tr>\n",
       "  </thead>\n",
       "  <tbody>\n",
       "    <tr>\n",
       "      <td>144519</td>\n",
       "      <td>388003d1-11cd-e111-941f-00259073dc22</td>\n",
       "      <td>2014</td>\n",
       "      <td>26.00</td>\n",
       "      <td>0</td>\n",
       "      <td>0.0</td>\n",
       "      <td>1956.0</td>\n",
       "      <td>female</td>\n",
       "      <td>63.0</td>\n",
       "      <td>(59, 69]</td>\n",
       "    </tr>\n",
       "    <tr>\n",
       "      <td>143929</td>\n",
       "      <td>ab3bb1d1-11cd-e111-941f-00259073dc22</td>\n",
       "      <td>2013</td>\n",
       "      <td>25.00</td>\n",
       "      <td>0</td>\n",
       "      <td>0.0</td>\n",
       "      <td>1954.0</td>\n",
       "      <td>female</td>\n",
       "      <td>65.0</td>\n",
       "      <td>(59, 69]</td>\n",
       "    </tr>\n",
       "    <tr>\n",
       "      <td>112440</td>\n",
       "      <td>dcce62d1-11cd-e111-941f-00259073dc22</td>\n",
       "      <td>2009</td>\n",
       "      <td>30.27</td>\n",
       "      <td>0</td>\n",
       "      <td>0.0</td>\n",
       "      <td>1962.0</td>\n",
       "      <td>female</td>\n",
       "      <td>57.0</td>\n",
       "      <td>(49, 59]</td>\n",
       "    </tr>\n",
       "    <tr>\n",
       "      <td>156692</td>\n",
       "      <td>bb6c6c43-05a5-e511-908e-26d4160798d6</td>\n",
       "      <td>2015</td>\n",
       "      <td>60.00</td>\n",
       "      <td>0</td>\n",
       "      <td>0.0</td>\n",
       "      <td>1956.0</td>\n",
       "      <td>female</td>\n",
       "      <td>63.0</td>\n",
       "      <td>(59, 69]</td>\n",
       "    </tr>\n",
       "    <tr>\n",
       "      <td>156303</td>\n",
       "      <td>183415d2-11cd-e111-941f-00259073dc22</td>\n",
       "      <td>2015</td>\n",
       "      <td>52.00</td>\n",
       "      <td>0</td>\n",
       "      <td>0.0</td>\n",
       "      <td>1961.0</td>\n",
       "      <td>female</td>\n",
       "      <td>58.0</td>\n",
       "      <td>(49, 59]</td>\n",
       "    </tr>\n",
       "  </tbody>\n",
       "</table>\n",
       "</div>"
      ],
      "text/plain": [
       "                                   ContactId  Year  PledgeTotal VolType  \\\n",
       "144519  388003d1-11cd-e111-941f-00259073dc22  2014        26.00       0   \n",
       "143929  ab3bb1d1-11cd-e111-941f-00259073dc22  2013        25.00       0   \n",
       "112440  dcce62d1-11cd-e111-941f-00259073dc22  2009        30.27       0   \n",
       "156692  bb6c6c43-05a5-e511-908e-26d4160798d6  2015        60.00       0   \n",
       "156303  183415d2-11cd-e111-941f-00259073dc22  2015        52.00       0   \n",
       "\n",
       "        VolunteerActivityCnt  BirthYear  Gender   age  age_bins  \n",
       "144519                   0.0     1956.0  female  63.0  (59, 69]  \n",
       "143929                   0.0     1954.0  female  65.0  (59, 69]  \n",
       "112440                   0.0     1962.0  female  57.0  (49, 59]  \n",
       "156692                   0.0     1956.0  female  63.0  (59, 69]  \n",
       "156303                   0.0     1961.0  female  58.0  (49, 59]  "
      ]
     },
     "execution_count": 63,
     "metadata": {},
     "output_type": "execute_result"
    }
   ],
   "source": [
    "df_age.sample(5)"
   ]
  },
  {
   "cell_type": "code",
   "execution_count": 64,
   "metadata": {},
   "outputs": [
    {
     "data": {
      "image/png": "[encoded data removed]",
      "text/plain": [
       "<Figure size 1008x576 with 1 Axes>"
      ]
     },
     "metadata": {},
     "output_type": "display_data"
    }
   ],
   "source": [
    "sns.set(style=\"whitegrid\", rc={'figure.figsize':(14, 8)})\n",
    "sns.barplot(x='age_bins', y='PledgeTotal', ci=80, data=df_age)\n",
    "plt.ylabel('Average donation')\n",
    "plt.title('Average donation by age')\n",
    "plt.show()"
   ]
  },
  {
   "cell_type": "markdown",
   "metadata": {},
   "source": [
    "# Conclusion  \n",
    "\n",
    "1.  When volunteers do make a donation, they donate much more on average than non volunteers.  \n",
    "&nbsp;\n",
    "\n",
    "2.  Council, Committee, Board type volunteers donate much more, on average, than do Standard type.  \n",
    "&nbsp;\n",
    "\n",
    "3.  Male and Standard type volunteers donate a lot more than Female and Standard type volunteers.  \n",
    "&nbsp;\n",
    "\n",
    "4.  Standard volunteers who volunteer more than one time donate significantly more than Standard volunteers who volunteer only 1 time.  \n",
    "&nbsp;\n",
    "\n",
    "5.  In general, older people donate more on average (regardless of whether they volunteer or not)."
   ]
  }
 ],
 "metadata": {
  "kernelspec": {
   "display_name": "Python 3",
   "language": "python",
   "name": "python3"
  },
  "language_info": {
   "codemirror_mode": {
    "name": "ipython",
    "version": 3
   },
   "file_extension": ".py",
   "mimetype": "text/x-python",
   "name": "python",
   "nbconvert_exporter": "python",
   "pygments_lexer": "ipython3",
   "version": "3.7.4"
  }
 },
 "nbformat": 4,
 "nbformat_minor": 2
}
